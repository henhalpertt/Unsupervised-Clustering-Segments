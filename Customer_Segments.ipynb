{
 "cells": [
  {
   "cell_type": "markdown",
   "metadata": {},
   "source": [
    "# Project: Identify Customer Segments\n",
    "\n",
    "In this project, you will apply unsupervised learning techniques to identify segments of the population that form the core customer base for a mail-order sales company in Germany. These segments can then be used to direct marketing campaigns towards audiences that will have the highest expected rate of returns. The data that you will use has been provided by our partners at Bertelsmann Arvato Analytics, and represents a real-life data science task.\n",
    "\n",
    "This notebook will help you complete this task by providing a framework within which you will perform your analysis steps. In each step of the project, you will see some text describing the subtask that you will perform, followed by one or more code cells for you to complete your work. **Feel free to add additional code and markdown cells as you go along so that you can explore everything in precise chunks.** The code cells provided in the base template will outline only the major tasks, and will usually not be enough to cover all of the minor tasks that comprise it.\n",
    "\n",
    "It should be noted that while there will be precise guidelines on how you should handle certain tasks in the project, there will also be places where an exact specification is not provided. **There will be times in the project where you will need to make and justify your own decisions on how to treat the data.** These are places where there may not be only one way to handle the data. In real-life tasks, there may be many valid ways to approach an analysis task. One of the most important things you can do is clearly document your approach so that other scientists can understand the decisions you've made.\n",
    "\n",
    "At the end of most sections, there will be a Markdown cell labeled **Discussion**. In these cells, you will report your findings for the completed section, as well as document the decisions that you made in your approach to each subtask. **Your project will be evaluated not just on the code used to complete the tasks outlined, but also your communication about your observations and conclusions at each stage.**"
   ]
  },
  {
   "cell_type": "code",
   "execution_count": 1,
   "metadata": {
    "collapsed": true
   },
   "outputs": [
    {
     "data": {
      "text/plain": [
       "'\\nImport note: The classroom currently uses sklearn version 0.19.\\nIf you need to use an imputer, it is available in sklearn.preprocessing.Imputer,\\ninstead of sklearn.impute as in newer versions of sklearn.\\n'"
      ]
     },
     "execution_count": 1,
     "metadata": {},
     "output_type": "execute_result"
    }
   ],
   "source": [
    "# import libraries here; add more as necessary\n",
    "import numpy as np\n",
    "import pandas as pd\n",
    "import matplotlib.pyplot as plt\n",
    "import seaborn as sns\n",
    "\n",
    "# magic word for producing visualizations in notebook\n",
    "%matplotlib inline\n",
    "\n",
    "'''\n",
    "Import note: The classroom currently uses sklearn version 0.19.\n",
    "If you need to use an imputer, it is available in sklearn.preprocessing.Imputer,\n",
    "instead of sklearn.impute as in newer versions of sklearn.\n",
    "'''"
   ]
  },
  {
   "cell_type": "code",
   "execution_count": 2,
   "metadata": {
    "collapsed": true
   },
   "outputs": [],
   "source": [
    "from sklearn.preprocessing import StandardScaler\n",
    "from sklearn.decomposition import PCA\n",
    "from sklearn.cluster import KMeans\n",
    "from sklearn.metrics import silhouette_score"
   ]
  },
  {
   "cell_type": "markdown",
   "metadata": {},
   "source": [
    "### Step 0: Load the Data\n",
    "\n",
    "There are four files associated with this project (not including this one):\n",
    "\n",
    "- `Udacity_AZDIAS_Subset.csv`: Demographics data for the general population of Germany; 891211 persons (rows) x 85 features (columns).\n",
    "- `Udacity_CUSTOMERS_Subset.csv`: Demographics data for customers of a mail-order company; 191652 persons (rows) x 85 features (columns).\n",
    "- `Data_Dictionary.md`: Detailed information file about the features in the provided datasets.\n",
    "- `AZDIAS_Feature_Summary.csv`: Summary of feature attributes for demographics data; 85 features (rows) x 4 columns\n",
    "\n",
    "Each row of the demographics files represents a single person, but also includes information outside of individuals, including information about their household, building, and neighborhood. You will use this information to cluster the general population into groups with similar demographic properties. Then, you will see how the people in the customers dataset fit into those created clusters. The hope here is that certain clusters are over-represented in the customers data, as compared to the general population; those over-represented clusters will be assumed to be part of the core userbase. This information can then be used for further applications, such as targeting for a marketing campaign.\n",
    "\n",
    "To start off with, load in the demographics data for the general population into a pandas DataFrame, and do the same for the feature attributes summary. Note for all of the `.csv` data files in this project: they're semicolon (`;`) delimited, so you'll need an additional argument in your [`read_csv()`](https://pandas.pydata.org/pandas-docs/stable/generated/pandas.read_csv.html) call to read in the data properly. Also, considering the size of the main dataset, it may take some time for it to load completely.\n",
    "\n",
    "Once the dataset is loaded, it's recommended that you take a little bit of time just browsing the general structure of the dataset and feature summary file. You'll be getting deep into the innards of the cleaning in the first major step of the project, so gaining some general familiarity can help you get your bearings."
   ]
  },
  {
   "cell_type": "code",
   "execution_count": null,
   "metadata": {
    "collapsed": true
   },
   "outputs": [],
   "source": [
    "# Load in the general demographics data.\n",
    "azdias =  pd.read_csv(\"Udacity_AZDIAS_Subset.csv\", delimiter=';')\n",
    "\n",
    "# Load in the feature summary file.\n",
    "feat_info = pd.read_csv(\"AZDIAS_Feature_Summary.csv\", delimiter=';')"
   ]
  },
  {
   "cell_type": "code",
   "execution_count": null,
   "metadata": {
    "collapsed": true
   },
   "outputs": [],
   "source": [
    "# Check the structure of the data after it's loaded (e.g. print the number of\n",
    "# rows and columns, print the first few rows).\n",
    "azdias.head(10)\n"
   ]
  },
  {
   "cell_type": "code",
   "execution_count": null,
   "metadata": {
    "collapsed": true
   },
   "outputs": [],
   "source": [
    "azdias.CAMEO_INTL_2015"
   ]
  },
  {
   "cell_type": "code",
   "execution_count": null,
   "metadata": {
    "collapsed": true
   },
   "outputs": [],
   "source": [
    "azdias.describe()"
   ]
  },
  {
   "cell_type": "markdown",
   "metadata": {},
   "source": [
    "> **Tip**: Add additional cells to keep everything in reasonably-sized chunks! Keyboard shortcut `esc --> a` (press escape to enter command mode, then press the 'A' key) adds a new cell before the active cell, and `esc --> b` adds a new cell after the active cell. If you need to convert an active cell to a markdown cell, use `esc --> m` and to convert to a code cell, use `esc --> y`. \n",
    "\n",
    "## Step 1: Preprocessing\n",
    "\n",
    "### Step 1.1: Assess Missing Data\n",
    "\n",
    "The feature summary file contains a summary of properties for each demographics data column. You will use this file to help you make cleaning decisions during this stage of the project. First of all, you should assess the demographics data in terms of missing data. Pay attention to the following points as you perform your analysis, and take notes on what you observe. Make sure that you fill in the **Discussion** cell with your findings and decisions at the end of each step that has one!\n",
    "\n",
    "#### Step 1.1.1: Convert Missing Value Codes to NaNs\n",
    "The fourth column of the feature attributes summary (loaded in above as `feat_info`) documents the codes from the data dictionary that indicate missing or unknown data. While the file encodes this as a list (e.g. `[-1,0]`), this will get read in as a string object. You'll need to do a little bit of parsing to make use of it to identify and clean the data. Convert data that matches a 'missing' or 'unknown' value code into a numpy NaN value. You might want to see how much data takes on a 'missing' or 'unknown' code, and how much data is naturally missing, as a point of interest.\n",
    "\n",
    "**As one more reminder, you are encouraged to add additional cells to break up your analysis into manageable chunks.**"
   ]
  },
  {
   "cell_type": "code",
   "execution_count": null,
   "metadata": {
    "collapsed": true
   },
   "outputs": [],
   "source": [
    "missing_vals_Schema = feat_info['missing_or_unknown']\n",
    "missing_vals_Schema"
   ]
  },
  {
   "cell_type": "code",
   "execution_count": null,
   "metadata": {
    "collapsed": true
   },
   "outputs": [],
   "source": [
    "# Identify missing or unknown data values and convert them to NaNs.\n",
    "# there are 85 features in this dataset according to the summary file.\n",
    "\n",
    "new_df = pd.DataFrame()\n",
    "for code,col in zip(missing_vals_Schema,azdias):\n",
    "    if (azdias[col].equals(azdias['CAMEO_DEUG_2015']) or azdias[col].equals(azdias['CAMEO_DEU_2015']) or azdias[col].equals(azdias['CAMEO_INTL_2015'])):\n",
    "        new_df[col] = azdias[col]\n",
    "        continue # I will treat those three later. they contain 'X' letters that eval() wont interpret\n",
    "    else:\n",
    "        code = eval(code) # convert str objects to list of ints.\n",
    "        if code == []:\n",
    "            new_df[col] = azdias[col]\n",
    "            continue\n",
    "        else:\n",
    "            new_df[col] = azdias[col].replace(code, np.NaN) \n",
    "            \n",
    "# and now dealing with the three entries with X letters:\n",
    "new_df['CAMEO_DEUG_2015'] = azdias['CAMEO_DEUG_2015'].replace([-1,'X'], np.NaN)\n",
    "new_df['CAMEO_DEU_2015'] = azdias['CAMEO_DEU_2015'].replace(['XX'], np.NaN)\n",
    "new_df['CAMEO_INTL_2015'] = azdias['CAMEO_INTL_2015'].replace([-1,'XX'], np.NaN)\n",
    "new_df.head(10)"
   ]
  },
  {
   "cell_type": "markdown",
   "metadata": {},
   "source": [
    "#### Step 1.1.2: Assess Missing Data in Each Column\n",
    "\n",
    "How much missing data is present in each column? There are a few columns that are outliers in terms of the proportion of values that are missing. You will want to use matplotlib's [`hist()`](https://matplotlib.org/api/_as_gen/matplotlib.pyplot.hist.html) function to visualize the distribution of missing value counts to find these columns. Identify and document these columns. While some of these columns might have justifications for keeping or re-encoding the data, for this project you should just remove them from the dataframe. (Feel free to make remarks about these outlier columns in the discussion, however!)\n",
    "\n",
    "For the remaining features, are there any patterns in which columns have, or share, missing data?"
   ]
  },
  {
   "cell_type": "code",
   "execution_count": null,
   "metadata": {
    "collapsed": true
   },
   "outputs": [],
   "source": [
    "# Perform an assessment of how much missing data there is in each column of the data\n",
    "# Counting number of Nans in each column:\n",
    "# I will be using this code later after filtering some columns.. so a function is a good idea.\n",
    "\n",
    "def nans_calculator(df, columns = True):\n",
    "    '''\n",
    "    calculating number of NaNs in each row or column\n",
    "    args:\n",
    "    df(DataFrame) - dataframe\n",
    "    columns(bool) - True if one wants NaNs in each columns. False if one wants NaNs in each row. \n",
    "    returns a DF of relevant values\n",
    "    '''\n",
    "    num_nans = list()\n",
    "    if columns:\n",
    "        col_nans = df.isna().sum()\n",
    "        nans_df = pd.DataFrame({'column_name': df.columns,\n",
    "                                'NaN-Frequency': col_nans,\n",
    "                                'ratio': (np.array(col_nans) / df.shape[0]) })                     \n",
    "    else:\n",
    "        row_nans = df.isna().sum(axis=1)\n",
    "        nans_df = pd.DataFrame({'NaN-Frequency': row_nans,\n",
    "                                'ratio': (np.array(row_nans) / df.shape[1]) })\n",
    "\n",
    "    return nans_df\n",
    "\n",
    "nans_df = nans_calculator(new_df)\n",
    "nans_df\n"
   ]
  },
  {
   "cell_type": "code",
   "execution_count": null,
   "metadata": {
    "collapsed": true
   },
   "outputs": [],
   "source": [
    "# Investigate patterns in the amount of missing data in each column.\n",
    "\n",
    "# fig = plt.figure(figsize=(17,7))\n",
    "# ax = fig.add_axes([0,0,1,1])\n",
    "# column_names = new_df.columns\n",
    "# ax.bar(column_names,num_nans)\n",
    "# plt.xticks(rotation='vertical')\n",
    "# plt.show()\n",
    "\n",
    "# I want to use seaborn instead.\n",
    "\n",
    "fig = plt.figure(figsize=(15,9))\n",
    "# make barplot and sort bars\n",
    "sns.barplot(x='column_name',\n",
    "            y=\"NaN-Frequency\", \n",
    "            data=nans_df, \n",
    "            order=nans_df.sort_values('NaN-Frequency', ascending = False).column_name)\n",
    "# set labels\n",
    "plt.xlabel(\"column-name\", size=18)\n",
    "plt.ylabel(\"Number of NaNs\", size=18)\n",
    "plt.xticks(rotation='90')\n",
    "# plt.title(\"\", size=17)\n",
    "plt.tight_layout()"
   ]
  },
  {
   "cell_type": "code",
   "execution_count": null,
   "metadata": {
    "collapsed": true
   },
   "outputs": [],
   "source": [
    "# # Freq-Nan from the above plot doesnt tell much. Can show percentage: \n",
    "# there are 891221 individuals in this dataset. It makes sense to see the percentage of nans in each column,\n",
    "\n",
    "fig = plt.figure(figsize=(15,9))\n",
    "# make barplot and sort bars\n",
    "sns.barplot(x='column_name',\n",
    "            y=\"ratio\",\n",
    "            data=nans_df, \n",
    "            order=nans_df.sort_values('ratio', ascending = False).column_name)\n",
    "# set labels\n",
    "plt.xlabel(\"column-name\", size=18)\n",
    "plt.ylabel(\"fraction of NaNs\", size=18)\n",
    "plt.xticks(rotation='90')\n",
    "plt.title(\"Percetage of NaNs in each Column\", size=17)\n",
    "plt.tight_layout()\n",
    "\n",
    "# roughly looks similar to a chi-sq distribution (with DOF=1)"
   ]
  },
  {
   "cell_type": "code",
   "execution_count": null,
   "metadata": {
    "collapsed": true
   },
   "outputs": [],
   "source": [
    "# Remove the outlier columns from the dataset. (You'll perform other data\n",
    "# engineering tasks such as re-encoding and imputation later.)\n",
    "\n",
    "# The the first 6 columns from the left of the plot are significantly larger in NaN values compared to other columns. \n",
    "# I think Ill remove those, I might remove more in the future, for now it is sufficient. \n",
    "\n",
    "# printing six highest columns: \n",
    "print(f\"removing:\\n{nans_df.sort_values('ratio', ascending = False).column_name.head(6)}\")\n",
    "\n",
    "selected_col_df = new_df.drop(['TITEL_KZ','AGER_TYP','KK_KUNDENTYP','KBA05_BAUMAX','GEBURTSJAHR','ALTER_HH'], axis=1)\n",
    "selected_col_df.shape # Should be 85-6=79 columns now"
   ]
  },
  {
   "cell_type": "code",
   "execution_count": null,
   "metadata": {
    "collapsed": true
   },
   "outputs": [],
   "source": [
    "# replotting new df\n",
    "nans_df = nans_calculator(selected_col_df)\n",
    "\n",
    "fig = plt.figure(figsize=(15,9))\n",
    "# make barplot and sort bars\n",
    "sns.barplot(x='column_name',\n",
    "            y=\"ratio\",\n",
    "            data=nans_df, \n",
    "            order=nans_df.sort_values('ratio', ascending = False).column_name)\n",
    "# set labels\n",
    "plt.xlabel(\"column-name\", size=18)\n",
    "plt.ylabel(\"fraction of NaNs\", size=18)\n",
    "plt.xticks(rotation='90')\n",
    "plt.title(\"Percetage of NaNs in each Column\", size=17)\n",
    "plt.tight_layout()"
   ]
  },
  {
   "cell_type": "markdown",
   "metadata": {},
   "source": [
    "#### Discussion 1.1.2: Assess Missing Data in Each Column\n",
    "\n",
    "(Double click this cell and replace this text with your own text, reporting your observations regarding the amount of missing data in each column. Are there any patterns in missing values? Which columns were removed from the dataset?)\n",
    "\n",
    "I removed six columns: \n",
    "1. 40        TITEL_KZ\n",
    "2. 0         AGER_TYP\n",
    "3. 47    KK_KUNDENTYP\n",
    "4. 64    KBA05_BAUMAX\n",
    "5. 11     GEBURTSJAHR\n",
    "6. 43        ALTER_HH\n",
    "\n",
    "More than 30% of the values were missing in those columns. After removing them it is easier to see that all bar plots have < 20 percent NaNs in them. \n",
    "It is still not a uniform distribution since we have several columns with zero NaNs in them. But at least it is better than the rough chi-sq distribution we had prior to the removal of the 6 columns\n",
    "\n",
    "Now for the next question that was asked : \"For the remaining features, are there any patterns in which columns have, or share, missing data?\" \n",
    "I will check to see if there exists any multicolinearities among features using correlation() function.\n",
    "If "
   ]
  },
  {
   "cell_type": "code",
   "execution_count": null,
   "metadata": {
    "collapsed": true
   },
   "outputs": [],
   "source": [
    "# Checking for multi-col among features:\n",
    "# corr_matrix = selected_col_df.corr()\n",
    "# hmap=sns.heatmap(corr_matrix, cmap=\"Spectral\")\n",
    "# Very difficuly to read ! I will create a function that gives the top correlations among features instead. \n",
    "\n",
    "def correlations(df, correlation_value=0.9):\n",
    "    '''\n",
    "    checking for correlations among featuers using a heatmap \n",
    "    \n",
    "    anything higher than 0.9 will be considered a multicol issue (usually it is less),\n",
    "    and will be removed from the df\n",
    "    returns a series of highest correlations\n",
    "    '''\n",
    "    c = df.corr().abs()\n",
    "    ncols = df.shape[1]\n",
    "    s = c.unstack()\n",
    "    sorted_values = s.sort_values(kind=\"quicksort\")    \n",
    "    #sorted_values.drop(index = sorted_values.tail(ncols).index, inplace = True) # drop all the 1.0 values \n",
    "    sorted_values = sorted_values[sorted_values > correlation_value]\n",
    "    sorted_values = sorted_values[sorted_values!=1.0]\n",
    "    print(sorted_values) \n",
    "    \n",
    "correlations(selected_col_df)"
   ]
  },
  {
   "cell_type": "code",
   "execution_count": null,
   "metadata": {
    "collapsed": true
   },
   "outputs": [],
   "source": [
    "# Each value repeats twice b/c its a full correlation matrix sorted. \n",
    "# These are the problematic features that I would remove:\n",
    "# [ LP_FAMILIE_FEIN, LP_FAMILIE_GROB, LP_LEBENSPHASE_GROB, LP_STATUS_FEIN ] \n",
    "\n",
    "selected_col_df2 = selected_col_df.drop(['LP_FAMILIE_FEIN','LP_FAMILIE_GROB','LP_LEBENSPHASE_GROB','LP_STATUS_FEIN'], axis=1)\n",
    "\n",
    "# checking now with correlations():\n",
    "correlations(selected_col_df2)\n",
    "\n",
    "# Ok. none exceed 0.9. Moving on. "
   ]
  },
  {
   "cell_type": "code",
   "execution_count": null,
   "metadata": {
    "collapsed": true
   },
   "outputs": [],
   "source": [
    "selected_col_df2.shape # 75 features after removing selected columns. "
   ]
  },
  {
   "cell_type": "markdown",
   "metadata": {},
   "source": [
    "#### Step 1.1.3: Assess Missing Data in Each Row\n",
    "\n",
    "Now, you'll perform a similar assessment for the rows of the dataset. How much data is missing in each row? As with the columns, you should see some groups of points that have a very different numbers of missing values. Divide the data into two subsets: one for data points that are above some threshold for missing values, and a second subset for points below that threshold.\n",
    "\n",
    "In order to know what to do with the outlier rows, we should see if the distribution of data values on columns that are not missing data (or are missing very little data) are similar or different between the two groups. Select at least five of these columns and compare the distribution of values.\n",
    "- You can use seaborn's [`countplot()`](https://seaborn.pydata.org/generated/seaborn.countplot.html) function to create a bar chart of code frequencies and matplotlib's [`subplot()`](https://matplotlib.org/api/_as_gen/matplotlib.pyplot.subplot.html) function to put bar charts for the two subplots side by side.\n",
    "- To reduce repeated code, you might want to write a function that can perform this comparison, taking as one of its arguments a column to be compared.\n",
    "\n",
    "Depending on what you observe in your comparison, this will have implications on how you approach your conclusions later in the analysis. If the distributions of non-missing features look similar between the data with many missing values and the data with few or no missing values, then we could argue that simply dropping those points from the analysis won't present a major issue. On the other hand, if the data with many missing values looks very different from the data with few or no missing values, then we should make a note on those data as special. We'll revisit these data later on. **Either way, you should continue your analysis for now using just the subset of the data with few or no missing values.**"
   ]
  },
  {
   "cell_type": "code",
   "execution_count": null,
   "metadata": {
    "collapsed": true
   },
   "outputs": [],
   "source": [
    "# How much data is missing in each row of the dataset?\n",
    "\n",
    "# using nans_calculator again with columns = False:\n",
    "# showing NaN freq and ratio of each row \n",
    "num_nans = nans_calculator(selected_col_df2, columns=False)\n",
    "num_nans.head(10)"
   ]
  },
  {
   "cell_type": "code",
   "execution_count": null,
   "metadata": {
    "collapsed": true
   },
   "outputs": [],
   "source": [
    "# Write code to divide the data into two subsets based on the number of missing\n",
    "# values in each row.\n",
    "# This is quite arbitrary, and we should consulte with domain experts regarding the limit of NaN in each row.\n",
    "# for the purpose of this project I will choose a maximum NaN Freq of 12%,\n",
    "# ie roughly 9 NaNs out of 75 remaining features.\n",
    "\n",
    "thresh = 9\n",
    "\n",
    "above_thresh_rows = num_nans[num_nans['NaN-Frequency'] >= thresh]\n",
    "below_thresh_rows = num_nans[num_nans['NaN-Frequency'] < thresh]\n",
    "below_thresh_rows.shape\n",
    "# There are 777595 rows with 9 or under NaNs values.\n",
    "# There are 113037 rows with more than 9 NaNs values."
   ]
  },
  {
   "cell_type": "code",
   "execution_count": null,
   "metadata": {
    "collapsed": true
   },
   "outputs": [],
   "source": [
    "# Compare the distribution of values for at least five columns where there are\n",
    "# no or few missing values, between the two subsets.\n",
    "\n",
    "# From the plots above I see that there are plentry of columns with little to no NaNs. \n",
    "# I will randomly select 5 from the list below. These are the columns with the least amount of NaNs.\n",
    "nans_df.sort_values('ratio', ascending = True).index[0:20]\n"
   ]
  },
  {
   "cell_type": "code",
   "execution_count": null,
   "metadata": {
    "collapsed": true
   },
   "outputs": [],
   "source": [
    "# Plotting histograms of the two subsets\n",
    "def compare_dist(column_name):\n",
    "    '''\n",
    "    column_name(str) - name of the selected column. There are total of 5 selected columns\n",
    "    \n",
    "    returns two plots. left histogram is for column with rows above 9 NaNs. Right is for column with rows below 9 NaNs.\n",
    "    \n",
    "    Plotting two histograms of both columns. repeated 5 times for each selected column.\n",
    "    '''\n",
    "    fig, ax = plt.subplots(1,2, figsize=(13,5)) \n",
    "    sns.countplot(selected_col_df2.iloc[above_thresh_rows.index, : ][column_name], palette=\"CMRmap_r\",ax=ax[0]);\n",
    "    ax[0].title.set_text('Above Threshold')\n",
    "    sns.countplot(selected_col_df2.iloc[below_thresh_rows.index, : ][column_name], palette=\"CMRmap_r\",ax=ax[1]);\n",
    "    ax[1].title.set_text('Below Threshold')\n",
    "    \n",
    "five_columns = ['ZABEOTYP','SEMIO_ERL', 'SEMIO_MAT', 'FINANZ_MINIMALIST', 'SEMIO_PFLICHT' ]\n",
    "\n",
    "for column_name in five_columns:\n",
    "    compare_dist(column_name=column_name)\n",
    "\n"
   ]
  },
  {
   "cell_type": "code",
   "execution_count": null,
   "metadata": {
    "collapsed": true
   },
   "outputs": [],
   "source": [
    "# saving the filtered df\n",
    "\n",
    "df_filtered = selected_col_df2.iloc[below_thresh_rows.index, : ]\n",
    "df_filtered.shape"
   ]
  },
  {
   "cell_type": "markdown",
   "metadata": {},
   "source": [
    "#### Discussion 1.1.3: Assess Missing Data in Each Row\n",
    "\n",
    "(Double-click this cell and replace this text with your own text, reporting your observations regarding missing data in rows. Are the data with lots of missing values are qualitatively different from data with few or no missing values?)\n",
    "\n",
    "Yes, the distributions of data with many missing values(called \"Above threshold\" plots) show different disributions compared to the data with little to no NaNs. <br>\n",
    "The columns with little NaNs(below Threshold) show a more uniform distribution,the categories are more balanced. The Above threshold data shows some influential outliers that skew the distribution of the data quite significantly."
   ]
  },
  {
   "cell_type": "markdown",
   "metadata": {},
   "source": [
    "### Step 1.2: Select and Re-Encode Features\n",
    "\n",
    "Checking for missing data isn't the only way in which you can prepare a dataset for analysis. Since the unsupervised learning techniques to be used will only work on data that is encoded numerically, you need to make a few encoding changes or additional assumptions to be able to make progress. In addition, while almost all of the values in the dataset are encoded using numbers, not all of them represent numeric values. Check the third column of the feature summary (`feat_info`) for a summary of types of measurement.\n",
    "- For numeric and interval data, these features can be kept without changes.\n",
    "- Most of the variables in the dataset are ordinal in nature. While ordinal values may technically be non-linear in spacing, make the simplifying assumption that the ordinal variables can be treated as being interval in nature (that is, kept without any changes).\n",
    "- Special handling may be necessary for the remaining two variable types: categorical, and 'mixed'.\n",
    "\n",
    "In the first two parts of this sub-step, you will perform an investigation of the categorical and mixed-type features and make a decision on each of them, whether you will keep, drop, or re-encode each. Then, in the last part, you will create a new data frame with only the selected and engineered columns.\n",
    "\n",
    "Data wrangling is often the trickiest part of the data analysis process, and there's a lot of it to be done here. But stick with it: once you're done with this step, you'll be ready to get to the machine learning parts of the project!"
   ]
  },
  {
   "cell_type": "code",
   "execution_count": null,
   "metadata": {
    "collapsed": true
   },
   "outputs": [],
   "source": [
    "# I forgot to remove the columns from feat_info. \n",
    "feat_info.set_index('attribute', inplace=True, drop=False)\n",
    "feat_info_filtered = feat_info.drop(['TITEL_KZ','AGER_TYP','KK_KUNDENTYP','KBA05_BAUMAX','GEBURTSJAHR','ALTER_HH',\n",
    "                                    'LP_FAMILIE_FEIN','LP_FAMILIE_GROB','LP_LEBENSPHASE_GROB','LP_STATUS_FEIN'], axis=0)\n",
    "\n",
    "print(feat_info_filtered.shape)\n",
    "print(df_filtered.shape)"
   ]
  },
  {
   "cell_type": "code",
   "execution_count": null,
   "metadata": {
    "collapsed": true
   },
   "outputs": [],
   "source": [
    "# How many features are there of each data type?\n",
    "\n",
    "categorical_columns_count_original = feat_info[feat_info['type']=='categorical'].shape[0]\n",
    "mixed_columns_count_original = feat_info[feat_info['type']=='mixed'].shape[0]\n",
    "print(f\"number of cateogorical columns- original:\\\n",
    "      {categorical_columns_count_original}\\nnumber of mixed colums-original:\\\n",
    "      {mixed_columns_count_original}\")\n",
    "\n",
    "print()\n",
    "\n",
    "categorical_columns_count = feat_info_filtered[feat_info_filtered['type']=='categorical'].shape[0] # categorical, mixed are to be encoded\n",
    "mixed_columns_count = feat_info_filtered[feat_info_filtered['type']=='mixed'].shape[0]\n",
    "print(f\"number of cateogorical columns: {categorical_columns_count}\\nnumber of mixed colums: {mixed_columns_count}\")\n",
    "\n",
    "# before the filtered columns there were total of 30 columns (21 categorical + 7 mixed)\n",
    "# after filtering selected columns: 20 columns (15 categorical + 5 mixed) "
   ]
  },
  {
   "cell_type": "markdown",
   "metadata": {},
   "source": [
    "#### Step 1.2.1: Re-Encode Categorical Features\n",
    "\n",
    "For categorical data, you would ordinarily need to encode the levels as dummy variables. Depending on the number of categories, perform one of the following:\n",
    "- For binary (two-level) categoricals that take numeric values, you can keep them without needing to do anything.\n",
    "- There is one binary variable that takes on non-numeric values. For this one, you need to re-encode the values as numbers or create a dummy variable.\n",
    "- For multi-level categoricals (three or more values), you can choose to encode the values using multiple dummy variables (e.g. via [OneHotEncoder](http://scikit-learn.org/stable/modules/generated/sklearn.preprocessing.OneHotEncoder.html)), or (to keep things straightforward) just drop them from the analysis. As always, document your choices in the Discussion section."
   ]
  },
  {
   "cell_type": "code",
   "execution_count": null,
   "metadata": {
    "collapsed": true
   },
   "outputs": [],
   "source": [
    "# Assess categorical variables: which are binary, which are multi-level, and\n",
    "# which one needs to be re-encoded?\n",
    "\n",
    "column_names_cat = np.array(feat_info_filtered[feat_info_filtered['type']=='categorical'].attribute)\n",
    "\n",
    "def assess_cat_features(df, type_featuers):\n",
    "    '''\n",
    "    Assess categorical features. \n",
    "    \n",
    "    args:\n",
    "    df(DataFrame) - selected DF\n",
    "    type_featuers - 'binary' if one wants description of all binary features.\n",
    "                     'multi' if one wants description of multi-class features. \n",
    "                   \n",
    "    returns an array. each value in the array contains: [column name[str],\n",
    "                                                        number of unique values[int],\n",
    "                                                        type of unique values[str] ]\n",
    "    '''\n",
    "    level_number_multi = []\n",
    "    level_number_binary = []\n",
    "    \n",
    "    for col in df[column_names_cat]:\n",
    "        unique_vals = df[col].unique()       \n",
    "        level = df[col].unique().shape[0]\n",
    "        \n",
    "        if level == 2: \n",
    "            level_number_binary.append((col, unique_vals, unique_vals.dtype))\n",
    "        else:\n",
    "            level_number_multi.append((col, unique_vals, unique_vals.dtype))\n",
    "    if type_featuers == 'binary':\n",
    "        return level_number_binary\n",
    "    return level_number_multi\n",
    "        \n",
    "assess_cat_features(df_filtered, 'binary')\n",
    "# SOHO_KZ is a float. will be converted to int. \n",
    "# OST_WEST_KZ unique values will be replaced with [1,0]\n",
    "# there are 4 binary features in the filtered dataset."
   ]
  },
  {
   "cell_type": "code",
   "execution_count": null,
   "metadata": {
    "collapsed": true
   },
   "outputs": [],
   "source": [
    "df_filtered['OST_WEST_KZ'].replace(['W', 'O'], [1, 0], inplace=True)\n",
    "df_filtered['SOHO_KZ'] = df_filtered['SOHO_KZ'].astype(int)\n",
    "# its giving a warning but type was changed to ints"
   ]
  },
  {
   "cell_type": "code",
   "execution_count": null,
   "metadata": {
    "collapsed": true
   },
   "outputs": [],
   "source": [
    "print(df_filtered['OST_WEST_KZ'].dtype)\n",
    "print(df_filtered['SOHO_KZ'].dtype)"
   ]
  },
  {
   "cell_type": "code",
   "execution_count": null,
   "metadata": {
    "collapsed": true
   },
   "outputs": [],
   "source": [
    "# regarding the multi-class columns: \n",
    "multi_class_features = assess_cat_features(df_filtered, 'multi')\n",
    "# len(multi_class_features) # 11 multi class as expected (11 + 4 = 15 categorical features.)\n",
    "multi_class_features\n",
    "# I think I will re-encode those features using dummmy variables in pandas. "
   ]
  },
  {
   "cell_type": "code",
   "execution_count": null,
   "metadata": {
    "collapsed": true
   },
   "outputs": [],
   "source": [
    "# Store name of columns with > 2 unique values:\n",
    "columns_names_multi = [column[0] for column in multi_class_features]\n",
    "columns_names_multi"
   ]
  },
  {
   "cell_type": "code",
   "execution_count": null,
   "metadata": {
    "collapsed": true
   },
   "outputs": [],
   "source": [
    "# Re-encode categorical variable(s) to be kept in the analysis.\n",
    "# I think I want to keep those features. Ill do one hot encoding using pandas get_dummies() \n",
    "\n",
    "df_filtered_encoded = pd.get_dummies(df_filtered, columns=columns_names_multi)\n",
    "df_filtered_encoded.shape"
   ]
  },
  {
   "cell_type": "markdown",
   "metadata": {},
   "source": [
    "#### Discussion 1.2.1: Re-Encode Categorical Features\n",
    "\n",
    "(Double-click this cell and replace this text with your own text, reporting your findings and decisions regarding categorical features. Which ones did you keep, which did you drop, and what engineering steps did you perform?)\n",
    "\n",
    "There are total of 4 binary features.\n",
    "SOHO_KZ was a float. was converted to int  \n",
    "OST_WEST_KZ unique values were be replaced with integer type values.\n",
    "\n",
    "\n",
    "There were 11 multiclass features, I decided to do one hot encoding on them, I did not throw away anything. \n",
    "I used pandas get_dummy function. "
   ]
  },
  {
   "cell_type": "markdown",
   "metadata": {},
   "source": [
    "#### Step 1.2.2: Engineer Mixed-Type Features\n",
    "\n",
    "There are a handful of features that are marked as \"mixed\" in the feature summary that require special treatment in order to be included in the analysis. There are two in particular that deserve attention; the handling of the rest are up to your own choices:\n",
    "- \"PRAEGENDE_JUGENDJAHRE\" combines information on three dimensions: generation by decade, movement (mainstream vs. avantgarde), and nation (east vs. west). While there aren't enough levels to disentangle east from west, you should create two new variables to capture the other two dimensions: an interval-type variable for decade, and a binary variable for movement.\n",
    "- \"CAMEO_INTL_2015\" combines information on two axes: wealth and life stage. Break up the two-digit codes by their 'tens'-place and 'ones'-place digits into two new ordinal variables (which, for the purposes of this project, is equivalent to just treating them as their raw numeric values).\n",
    "- If you decide to keep or engineer new features around the other mixed-type features, make sure you note your steps in the Discussion section.\n",
    "\n",
    "Be sure to check `Data_Dictionary.md` for the details needed to finish these tasks."
   ]
  },
  {
   "cell_type": "code",
   "execution_count": null,
   "metadata": {
    "collapsed": true
   },
   "outputs": [],
   "source": [
    "print(df_filtered_encoded.PRAEGENDE_JUGENDJAHRE.unique())\n",
    "df_filtered_encoded.PRAEGENDE_JUGENDJAHRE.isna().sum()\n",
    "# there are 25106  nans in this column. "
   ]
  },
  {
   "cell_type": "code",
   "execution_count": null,
   "metadata": {
    "collapsed": true
   },
   "outputs": [],
   "source": [
    "# Investigate \"PRAEGENDE_JUGENDJAHRE\" and engineer two new variables.\n",
    "\n",
    "# PRAEGENDE_JUGENDJAHRE Dominating movement of person's youth (avantgarde vs. mainstream; east vs. west)\n",
    "df_filtered_encoded.PRAEGENDE_JUGENDJAHRE.describe()\n",
    "# an interval-type variable for decade,\n",
    "# there are 6 possible values in decades: 40,50,60,70,80,90\n",
    "decades = {0: [1, 2],\n",
    "           1: [3, 4],\n",
    "           2: [5, 6, 7],\n",
    "           3: [8, 9],\n",
    "           4: [10, 11, 12, 13],\n",
    "           5:[14, 15]\n",
    "          }\n",
    "\n",
    "avantgarde = [2,4,6,7,9,11,13,15]\n",
    "\n",
    "def encode_decades(entry):\n",
    "    '''\n",
    "    encode decade of person. selected according to 'decades' dictionary above \n",
    "    \n",
    "    returns a values from 0 - 6, or NaN if entry is a NaN. \n",
    "    '''\n",
    "    try:\n",
    "        for key, values in decades.items():\n",
    "            # encode decade according to dict above\n",
    "            if entry in values:\n",
    "                return key \n",
    "    except ValueError:\n",
    "        return np.nan\n",
    "    \n",
    "\n",
    "#  and a binary variable for movement:\n",
    "\n",
    "def encode_movment(entry):\n",
    "    '''\n",
    "    encode movement of person. \n",
    "    \n",
    "    returns 1 if its avantgarde, 0 if mainstream and NaN if entry is NaN. \n",
    "    '''\n",
    "    try:\n",
    "        if entry in avantgarde:\n",
    "            return 1\n",
    "        else:\n",
    "            return 0\n",
    "    except ValueError:\n",
    "        return np.nan\n"
   ]
  },
  {
   "cell_type": "code",
   "execution_count": null,
   "metadata": {
    "collapsed": true
   },
   "outputs": [],
   "source": [
    "# adding two new columns:\n",
    "df_filtered_encoded['PRAEGENDE_JUGENDJAHRE_DECADE'] = df_filtered_encoded['PRAEGENDE_JUGENDJAHRE'].apply(encode_decades)\n",
    "\n",
    "df_filtered_encoded['PRAEGENDE_JUGENDJAHRE_MOVEMENT'] = df_filtered_encoded['PRAEGENDE_JUGENDJAHRE'].apply(encode_movment)\n"
   ]
  },
  {
   "cell_type": "code",
   "execution_count": null,
   "metadata": {
    "collapsed": true
   },
   "outputs": [],
   "source": [
    "# Investigate \"CAMEO_INTL_2015\" and engineer two new variables.\n",
    "\n",
    "df_filtered_encoded.CAMEO_INTL_2015.describe()\n",
    "df_filtered_encoded.CAMEO_INTL_2015.isna().sum() # there are 3396 nan values. \n",
    "\n",
    "def get_wealth_lifestage(entry, wealth = True):\n",
    "    if pd.isnull(entry):\n",
    "        return entry\n",
    "    if wealth:\n",
    "        return int(entry[0])\n",
    "    return int(entry[1])\n",
    "\n",
    "\n",
    "        \n",
    "wealth_column = df_filtered_encoded['CAMEO_INTL_2015'].apply(get_wealth_lifestage)\n",
    "\n",
    "life_column = df_filtered_encoded['CAMEO_INTL_2015'].apply(get_wealth_lifestage, wealth=False)\n",
    "\n",
    "# creating two new columns: \n",
    "df_filtered_encoded['CAMEO_INTL_2015_WEALTH'] = wealth_column\n",
    "df_filtered_encoded['CAMEO_INTL_2015_LIFE'] = life_column"
   ]
  },
  {
   "cell_type": "markdown",
   "metadata": {},
   "source": [
    "#### Discussion 1.2.2: Engineer Mixed-Type Features\n",
    "\n",
    "(Double-click this cell and replace this text with your own text, reporting your findings and decisions regarding mixed-value features. Which ones did you keep, which did you drop, and what engineering steps did you perform?)\n",
    "\n",
    "PRAEGENDE_JUGENDJAHRE and CAMEO_INTL_2015 had several layers that needed to be broken down into several columns. \n",
    "PRAEGENDE_JUGENDJAHRE was broken down into two columns: decades and movement, an\n",
    "\n",
    "CAMEO_INTL_2015 was broken down into two new columns: wealth and life.\n",
    "\n",
    "original columns were removed later on (section 1.2.3)"
   ]
  },
  {
   "cell_type": "markdown",
   "metadata": {},
   "source": [
    "#### Step 1.2.3: Complete Feature Selection\n",
    "\n",
    "In order to finish this step up, you need to make sure that your data frame now only has the columns that you want to keep. To summarize, the dataframe should consist of the following:\n",
    "- All numeric, interval, and ordinal type columns from the original dataset.\n",
    "- Binary categorical features (all numerically-encoded).\n",
    "- Engineered features from other multi-level categorical features and mixed features.\n",
    "\n",
    "Make sure that for any new columns that you have engineered, that you've excluded the original columns from the final dataset. Otherwise, their values will interfere with the analysis later on the project. For example, you should not keep \"PRAEGENDE_JUGENDJAHRE\", since its values won't be useful for the algorithm: only the values derived from it in the engineered features you created should be retained. As a reminder, your data should only be from **the subset with few or no missing values**."
   ]
  },
  {
   "cell_type": "code",
   "execution_count": null,
   "metadata": {
    "collapsed": true
   },
   "outputs": [],
   "source": [
    "# If there are other re-engineering tasks you need to perform, make sure you\n",
    "# take care of them here. (Dealing with missing data will come in step 2.1.)\n",
    "# i forgot to remove the columns engineered above: \n",
    "\n",
    "df_filtered_encoded.drop(['CAMEO_INTL_2015','PRAEGENDE_JUGENDJAHRE'], axis=1, inplace=True)\n",
    "# df_filtered_encoded.drop(['CAMEO_INTL_2015'], axis=1, inplace=True)\n",
    "correlations(df_filtered_encoded)"
   ]
  },
  {
   "cell_type": "code",
   "execution_count": null,
   "metadata": {
    "collapsed": true
   },
   "outputs": [],
   "source": [
    "# Do whatever you need to in order to ensure that the dataframe only contains\n",
    "# the columns that should be passed to the algorithm functions.\n",
    "df_filtered_encoded.drop(['VERS_TYP_2.0'], axis=1, inplace=True)\n",
    "correlations(df_filtered_encoded)\n"
   ]
  },
  {
   "cell_type": "code",
   "execution_count": null,
   "metadata": {
    "collapsed": true
   },
   "outputs": [],
   "source": [
    "# this is the df after cleaning columns and selected rows + feature selection:\n",
    "df_filtered_encoded.shape"
   ]
  },
  {
   "cell_type": "markdown",
   "metadata": {},
   "source": [
    "### Step 1.3: Create a Cleaning Function\n",
    "\n",
    "Even though you've finished cleaning up the general population demographics data, it's important to look ahead to the future and realize that you'll need to perform the same cleaning steps on the customer demographics data. In this substep, complete the function below to execute the main feature selection, encoding, and re-engineering steps you performed above. Then, when it comes to looking at the customer data in Step 3, you can just run this function on that DataFrame to get the trimmed dataset in a single step."
   ]
  },
  {
   "cell_type": "code",
   "execution_count": 3,
   "metadata": {
    "collapsed": true
   },
   "outputs": [],
   "source": [
    "# Perform an assessment of how much missing data there is in each column of the data\n",
    "# Counting number of Nans in each column:\n",
    "\n",
    "# one chunk to rule them all : I am putting all relevant funcitons in one chunk + the cleaning function. \n",
    "# Its gonna be abit ugly.. \n",
    "\n",
    "decades = {0: [1, 2],\n",
    "           1: [3, 4],\n",
    "           2: [5, 6, 7],\n",
    "           3: [8, 9],\n",
    "           4: [10, 11, 12, 13],\n",
    "           5:[14, 15]\n",
    "          }\n",
    "\n",
    "avantgarde = [2,4,6,7,9,11,13,15]\n",
    "\n",
    "def nans_calculator(df, columns = True):\n",
    "    '''\n",
    "    calculating number of NaNs in each row or column\n",
    "    args:\n",
    "    df(DataFrame) - dataframe\n",
    "    columns(bool) - True if one wants NaNs in each columns. False if one wants NaNs in each row. \n",
    "    returns a DF of relevant values\n",
    "    '''\n",
    "    num_nans = list()\n",
    "    if columns:\n",
    "        col_nans = df.isna().sum()\n",
    "        nans_df = pd.DataFrame({'column_name': df.columns,\n",
    "                                'NaN-Frequency': col_nans,\n",
    "                                'ratio': (np.array(col_nans) / df.shape[0]) })                     \n",
    "    else:\n",
    "        row_nans = df.isna().sum(axis=1)\n",
    "        nans_df = pd.DataFrame({'NaN-Frequency': row_nans,\n",
    "                                'ratio': (np.array(row_nans) / df.shape[1]) })\n",
    "\n",
    "    return nans_df\n",
    "\n",
    "\n",
    "def encode_decades(entry):\n",
    "    '''\n",
    "    encode decade of person. selected according to 'decades' dictionary above \n",
    "    \n",
    "    returns a values from 0 - 6, or NaN if entry is a NaN. \n",
    "    '''\n",
    "    try:\n",
    "        for key, values in decades.items():\n",
    "            # encode decade according to dict above\n",
    "            if entry in values:\n",
    "                return key \n",
    "    except ValueError:\n",
    "        return np.nan\n",
    "    \n",
    "\n",
    "#  and a binary variable for movement:\n",
    "\n",
    "def encode_movment(entry):\n",
    "    '''\n",
    "    encode movement of person. \n",
    "    \n",
    "    returns 1 if its avantgarde, 0 if mainstream and NaN if entry is NaN. \n",
    "    '''\n",
    "    try:\n",
    "        if entry in avantgarde:\n",
    "            return 1\n",
    "        else:\n",
    "            return 0\n",
    "    except ValueError:\n",
    "        return np.nan\n",
    "    \n",
    "def get_wealth_lifestage(entry, wealth = True):\n",
    "    if pd.isnull(entry):\n",
    "        return entry\n",
    "    if wealth:\n",
    "        return int(entry[0])\n",
    "    return int(entry[1])\n",
    "\n",
    "def assess_cat_features(df, type_featuers, feat_info):\n",
    "    '''\n",
    "    Assess categorical features. \n",
    "    \n",
    "    args:\n",
    "    df(DataFrame) - selected DF\n",
    "    type_featuers - 'binary' if one wants description of all binary features.\n",
    "                     'multi' if one wants description of multi-class features. \n",
    "    feat_info(df) - summary of features\n",
    "                   \n",
    "    returns an array. each value in the array contains: [column name[str],\n",
    "                                                        number of unique values[int],\n",
    "                                                        type of unique values[str] ]\n",
    "    '''\n",
    "    \n",
    "    feat_info.set_index('attribute', inplace=True, drop=False)\n",
    "    feat_info_filtered = feat_info.drop(['TITEL_KZ','AGER_TYP','KK_KUNDENTYP','KBA05_BAUMAX','GEBURTSJAHR','ALTER_HH',\n",
    "                                    'LP_FAMILIE_FEIN','LP_FAMILIE_GROB','LP_LEBENSPHASE_GROB','LP_STATUS_FEIN'], axis=0)\n",
    "    \n",
    "    column_names_cat = np.array(feat_info_filtered[feat_info_filtered['type']=='categorical'].attribute)\n",
    "    level_number_multi = []\n",
    "    level_number_binary = []\n",
    "    \n",
    "    for col in df[column_names_cat]:\n",
    "        unique_vals = df[col].unique()       \n",
    "        level = df[col].unique().shape[0]\n",
    "        \n",
    "        if level == 2: \n",
    "            level_number_binary.append((col, unique_vals, unique_vals.dtype))\n",
    "        else:\n",
    "            level_number_multi.append((col, unique_vals, unique_vals.dtype))\n",
    "    if type_featuers == 'binary':\n",
    "        return level_number_binary\n",
    "    return level_number_multi\n",
    "\n",
    "def clean_data(df, feat_info, thresh, general_df=True):\n",
    "    \"\"\"\n",
    "    Perform feature trimming, re-encoding, and engineering for demographics\n",
    "    data\n",
    "    \n",
    "    INPUT: Demographics DataFrame\n",
    "    OUTPUT: Trimmed and cleaned demographics DataFrame\n",
    "    \"\"\"   \n",
    "    # Put in code here to execute all main cleaning steps:\n",
    "    # convert missing value codes into NaNs, ...\n",
    "    missing_vals_Schema = feat_info['missing_or_unknown']\n",
    "    new_df = pd.DataFrame()\n",
    "    \n",
    "    for code,col in zip(missing_vals_Schema,df):\n",
    "        if (df[col].equals(df['CAMEO_DEUG_2015']) or df[col].equals(df['CAMEO_DEU_2015']) or df[col].equals(df['CAMEO_INTL_2015'])):\n",
    "            new_df[col] = df[col]\n",
    "            continue # I will treat those three later. they contain 'X' letters that eval() wont interpret\n",
    "        else:\n",
    "            code = eval(code) # convert str objects to list of ints.\n",
    "            if code == []:\n",
    "                new_df[col] = df[col]\n",
    "                continue\n",
    "            else:\n",
    "                new_df[col] = df[col].replace(code, np.NaN) \n",
    "\n",
    "    # and now dealing with the three entries with X letters:\n",
    "    new_df['CAMEO_DEUG_2015'] = df['CAMEO_DEUG_2015'].replace([-1,'X'], np.NaN)\n",
    "    new_df['CAMEO_DEU_2015'] = df['CAMEO_DEU_2015'].replace(['XX'], np.NaN)\n",
    "    new_df['CAMEO_INTL_2015'] = df['CAMEO_INTL_2015'].replace([-1,'XX'], np.NaN)\n",
    "    \n",
    "    # remove selected columns and rows, ... I kept the original names for convenience if you want to track it with the\n",
    "    # work I did above \n",
    "    selected_col_df2 = new_df.drop(['TITEL_KZ',\n",
    "                                   'AGER_TYP',\n",
    "                                   'KK_KUNDENTYP',\n",
    "                                   'KBA05_BAUMAX',\n",
    "                                   'GEBURTSJAHR',\n",
    "                                   'ALTER_HH',\n",
    "                                   'LP_FAMILIE_FEIN',\n",
    "                                   'LP_FAMILIE_GROB',\n",
    "                                   'LP_LEBENSPHASE_GROB',\n",
    "                                   'LP_STATUS_FEIN'], axis=1)\n",
    "    \n",
    "    \n",
    "    num_nans = nans_calculator(selected_col_df2, columns=False)\n",
    "    below_thresh_rows = num_nans[num_nans['NaN-Frequency'] < thresh]\n",
    "    df_filtered = selected_col_df2.iloc[below_thresh_rows.index, : ]\n",
    "    \n",
    "    # select, re-encode, and engineer column values.\n",
    "    # binary \n",
    "    df_filtered['OST_WEST_KZ'].replace(['W', 'O'], [1, 0], inplace=True)\n",
    "    df_filtered['SOHO_KZ'] = df_filtered['SOHO_KZ'].astype(int)\n",
    "    # multi class\n",
    "    multi_class_features = assess_cat_features(df_filtered, 'multi',feat_info)\n",
    "    columns_names_multi = [column[0] for column in multi_class_features]\n",
    "    df_filtered_encoded = pd.get_dummies(df_filtered, columns=columns_names_multi)\n",
    "    \n",
    "    # mixed categories: \n",
    "    df_filtered_encoded['PRAEGENDE_JUGENDJAHRE_DECADE'] = df_filtered_encoded['PRAEGENDE_JUGENDJAHRE'].apply(encode_decades)\n",
    "    df_filtered_encoded['PRAEGENDE_JUGENDJAHRE_MOVEMENT'] = df_filtered_encoded['PRAEGENDE_JUGENDJAHRE'].apply(encode_movment)\n",
    "    \n",
    "    wealth_column = df_filtered_encoded['CAMEO_INTL_2015'].apply(get_wealth_lifestage)\n",
    "    life_column = df_filtered_encoded['CAMEO_INTL_2015'].apply(get_wealth_lifestage, wealth=False)\n",
    "    \n",
    "    # creating two new columns for wealth and life-stage: \n",
    "    df_filtered_encoded['CAMEO_INTL_2015_WEALTH'] = wealth_column\n",
    "    df_filtered_encoded['CAMEO_INTL_2015_LIFE'] = life_column\n",
    "    # drop original columns\n",
    "    df_filtered_encoded.drop(['CAMEO_INTL_2015','PRAEGENDE_JUGENDJAHRE'], axis=1, inplace=True)\n",
    "    \n",
    "    # remove extra highly correlated columns \n",
    "    if general_df:\n",
    "        df_filtered_encoded.drop(['VERS_TYP_2.0'], axis=1, inplace=True)\n",
    "    \n",
    "    # Return the cleaned dataframe.\n",
    "    return df_filtered_encoded, df_filtered_encoded.shape\n"
   ]
  },
  {
   "cell_type": "code",
   "execution_count": 4,
   "metadata": {
    "collapsed": true
   },
   "outputs": [],
   "source": [
    "# Running the cleaning function:\n",
    "df =  pd.read_csv(\"Udacity_AZDIAS_Subset.csv\", delimiter=';')\n",
    "\n",
    "# Load in the feature summary file.\n",
    "feat_info = pd.read_csv(\"AZDIAS_Feature_Summary.csv\", delimiter=';')"
   ]
  },
  {
   "cell_type": "code",
   "execution_count": 5,
   "metadata": {},
   "outputs": [
    {
     "name": "stderr",
     "output_type": "stream",
     "text": [
      "/opt/conda/lib/python3.6/site-packages/pandas/core/generic.py:5890: SettingWithCopyWarning: \n",
      "A value is trying to be set on a copy of a slice from a DataFrame\n",
      "\n",
      "See the caveats in the documentation: http://pandas.pydata.org/pandas-docs/stable/indexing.html#indexing-view-versus-copy\n",
      "  self._update_inplace(new_data)\n",
      "/opt/conda/lib/python3.6/site-packages/ipykernel_launcher.py:163: SettingWithCopyWarning: \n",
      "A value is trying to be set on a copy of a slice from a DataFrame.\n",
      "Try using .loc[row_indexer,col_indexer] = value instead\n",
      "\n",
      "See the caveats in the documentation: http://pandas.pydata.org/pandas-docs/stable/indexing.html#indexing-view-versus-copy\n"
     ]
    }
   ],
   "source": [
    "df_clean, shape_df = clean_data(df=df, feat_info=feat_info , thresh=9)"
   ]
  },
  {
   "cell_type": "code",
   "execution_count": 73,
   "metadata": {},
   "outputs": [
    {
     "data": {
      "text/plain": [
       "(777595, 169)"
      ]
     },
     "execution_count": 73,
     "metadata": {},
     "output_type": "execute_result"
    }
   ],
   "source": [
    "df_clean.shape"
   ]
  },
  {
   "cell_type": "code",
   "execution_count": null,
   "metadata": {
    "collapsed": true
   },
   "outputs": [],
   "source": [
    "df_clean.sample(15)"
   ]
  },
  {
   "cell_type": "markdown",
   "metadata": {},
   "source": [
    "## Step 2: Feature Transformation\n",
    "\n",
    "### Step 2.1: Apply Feature Scaling\n",
    "\n",
    "Before we apply dimensionality reduction techniques to the data, we need to perform feature scaling so that the principal component vectors are not influenced by the natural differences in scale for features. Starting from this part of the project, you'll want to keep an eye on the [API reference page for sklearn](http://scikit-learn.org/stable/modules/classes.html) to help you navigate to all of the classes and functions that you'll need. In this substep, you'll need to check the following:\n",
    "\n",
    "- sklearn requires that data not have missing values in order for its estimators to work properly. So, before applying the scaler to your data, make sure that you've cleaned the DataFrame of the remaining missing values. This can be as simple as just removing all data points with missing data, or applying an [Imputer](http://scikit-learn.org/stable/modules/generated/sklearn.preprocessing.Imputer.html) to replace all missing values. You might also try a more complicated procedure where you temporarily remove missing values in order to compute the scaling parameters before re-introducing those missing values and applying imputation. Think about how much missing data you have and what possible effects each approach might have on your analysis, and justify your decision in the discussion section below.\n",
    "- For the actual scaling function, a [StandardScaler](http://scikit-learn.org/stable/modules/generated/sklearn.preprocessing.StandardScaler.html) instance is suggested, scaling each feature to mean 0 and standard deviation 1.\n",
    "- For these classes, you can make use of the `.fit_transform()` method to both fit a procedure to the data as well as apply the transformation to the data at the same time. Don't forget to keep the fit sklearn objects handy, since you'll be applying them to the customer demographics data towards the end of the project."
   ]
  },
  {
   "cell_type": "code",
   "execution_count": null,
   "metadata": {
    "collapsed": true
   },
   "outputs": [],
   "source": [
    "# If you've not yet cleaned the dataset of all NaN values, then investigate and\n",
    "# do that now.\n",
    "\n",
    "# checking how many nans I have in each column after cleaning:\n",
    "nans_calculator(df_clean)['NaN-Frequency'].sum() # 500030 \n"
   ]
  },
  {
   "cell_type": "code",
   "execution_count": 6,
   "metadata": {},
   "outputs": [
    {
     "name": "stdout",
     "output_type": "stream",
     "text": [
      "Number of nans: 0\n"
     ]
    }
   ],
   "source": [
    "# I think that instead of removing those entries I will take the most common value in the column and\n",
    "# assign it to where there is nan. ie I will use pandas mode function. \n",
    "for col in df_clean:\n",
    "    df_clean[col].fillna(df_clean[col].mode()[0], inplace=True)\n",
    "    \n",
    "# checking again how many nans are in the df\n",
    "print(f\"Number of nans: {nans_calculator(df_clean)['NaN-Frequency'].sum()}\")"
   ]
  },
  {
   "cell_type": "code",
   "execution_count": 7,
   "metadata": {
    "collapsed": true
   },
   "outputs": [],
   "source": [
    "# Apply feature scaling to the general population demographics data.\n",
    "scaler = StandardScaler()\n",
    "df_clean_zscore = scaler.fit_transform(df_clean)\n"
   ]
  },
  {
   "cell_type": "code",
   "execution_count": 12,
   "metadata": {},
   "outputs": [
    {
     "data": {
      "text/html": [
       "<div>\n",
       "<style scoped>\n",
       "    .dataframe tbody tr th:only-of-type {\n",
       "        vertical-align: middle;\n",
       "    }\n",
       "\n",
       "    .dataframe tbody tr th {\n",
       "        vertical-align: top;\n",
       "    }\n",
       "\n",
       "    .dataframe thead th {\n",
       "        text-align: right;\n",
       "    }\n",
       "</style>\n",
       "<table border=\"1\" class=\"dataframe\">\n",
       "  <thead>\n",
       "    <tr style=\"text-align: right;\">\n",
       "      <th></th>\n",
       "      <th>0</th>\n",
       "      <th>1</th>\n",
       "      <th>2</th>\n",
       "      <th>3</th>\n",
       "      <th>4</th>\n",
       "      <th>5</th>\n",
       "      <th>6</th>\n",
       "      <th>7</th>\n",
       "      <th>8</th>\n",
       "      <th>9</th>\n",
       "      <th>...</th>\n",
       "      <th>159</th>\n",
       "      <th>160</th>\n",
       "      <th>161</th>\n",
       "      <th>162</th>\n",
       "      <th>163</th>\n",
       "      <th>164</th>\n",
       "      <th>165</th>\n",
       "      <th>166</th>\n",
       "      <th>167</th>\n",
       "      <th>168</th>\n",
       "    </tr>\n",
       "  </thead>\n",
       "  <tbody>\n",
       "    <tr>\n",
       "      <th>601800</th>\n",
       "      <td>-1.765886</td>\n",
       "      <td>0.958787</td>\n",
       "      <td>-0.762099</td>\n",
       "      <td>-1.151856</td>\n",
       "      <td>1.134108</td>\n",
       "      <td>-1.248327</td>\n",
       "      <td>-1.171326</td>\n",
       "      <td>1.326833</td>\n",
       "      <td>-0.532016</td>\n",
       "      <td>1.006134</td>\n",
       "      <td>...</td>\n",
       "      <td>-0.151388</td>\n",
       "      <td>-0.163940</td>\n",
       "      <td>-0.191376</td>\n",
       "      <td>-0.181644</td>\n",
       "      <td>-0.194499</td>\n",
       "      <td>-0.088234</td>\n",
       "      <td>-1.622078</td>\n",
       "      <td>-0.532016</td>\n",
       "      <td>0.488767</td>\n",
       "      <td>-1.249608</td>\n",
       "    </tr>\n",
       "    <tr>\n",
       "      <th>372196</th>\n",
       "      <td>0.199466</td>\n",
       "      <td>-1.042985</td>\n",
       "      <td>-0.762099</td>\n",
       "      <td>0.866325</td>\n",
       "      <td>-1.044624</td>\n",
       "      <td>0.109793</td>\n",
       "      <td>0.981238</td>\n",
       "      <td>-0.818891</td>\n",
       "      <td>-0.532016</td>\n",
       "      <td>1.006134</td>\n",
       "      <td>...</td>\n",
       "      <td>-0.151388</td>\n",
       "      <td>6.099779</td>\n",
       "      <td>-0.191376</td>\n",
       "      <td>-0.181644</td>\n",
       "      <td>-0.194499</td>\n",
       "      <td>-0.088234</td>\n",
       "      <td>1.107682</td>\n",
       "      <td>-0.532016</td>\n",
       "      <td>1.170613</td>\n",
       "      <td>-0.578459</td>\n",
       "    </tr>\n",
       "    <tr>\n",
       "      <th>697801</th>\n",
       "      <td>0.199466</td>\n",
       "      <td>0.958787</td>\n",
       "      <td>1.415273</td>\n",
       "      <td>-1.151856</td>\n",
       "      <td>1.134108</td>\n",
       "      <td>-1.248327</td>\n",
       "      <td>-1.171326</td>\n",
       "      <td>-0.818891</td>\n",
       "      <td>1.879641</td>\n",
       "      <td>-1.638759</td>\n",
       "      <td>...</td>\n",
       "      <td>-0.151388</td>\n",
       "      <td>-0.163940</td>\n",
       "      <td>-0.191376</td>\n",
       "      <td>-0.181644</td>\n",
       "      <td>-0.194499</td>\n",
       "      <td>-0.088234</td>\n",
       "      <td>-0.939638</td>\n",
       "      <td>1.879641</td>\n",
       "      <td>-0.874926</td>\n",
       "      <td>1.434988</td>\n",
       "    </tr>\n",
       "    <tr>\n",
       "      <th>507085</th>\n",
       "      <td>-0.783210</td>\n",
       "      <td>-1.042985</td>\n",
       "      <td>-0.036308</td>\n",
       "      <td>0.193598</td>\n",
       "      <td>-0.318380</td>\n",
       "      <td>0.109793</td>\n",
       "      <td>-1.171326</td>\n",
       "      <td>0.611591</td>\n",
       "      <td>-0.532016</td>\n",
       "      <td>1.006134</td>\n",
       "      <td>...</td>\n",
       "      <td>-0.151388</td>\n",
       "      <td>-0.163940</td>\n",
       "      <td>-0.191376</td>\n",
       "      <td>-0.181644</td>\n",
       "      <td>-0.194499</td>\n",
       "      <td>-0.088234</td>\n",
       "      <td>-0.257198</td>\n",
       "      <td>-0.532016</td>\n",
       "      <td>0.488767</td>\n",
       "      <td>-1.249608</td>\n",
       "    </tr>\n",
       "    <tr>\n",
       "      <th>148128</th>\n",
       "      <td>1.182142</td>\n",
       "      <td>0.958787</td>\n",
       "      <td>-0.036308</td>\n",
       "      <td>-1.151856</td>\n",
       "      <td>1.134108</td>\n",
       "      <td>-0.569267</td>\n",
       "      <td>-0.453805</td>\n",
       "      <td>1.326833</td>\n",
       "      <td>-0.532016</td>\n",
       "      <td>-0.316313</td>\n",
       "      <td>...</td>\n",
       "      <td>-0.151388</td>\n",
       "      <td>-0.163940</td>\n",
       "      <td>-0.191376</td>\n",
       "      <td>-0.181644</td>\n",
       "      <td>-0.194499</td>\n",
       "      <td>-0.088234</td>\n",
       "      <td>1.107682</td>\n",
       "      <td>-0.532016</td>\n",
       "      <td>1.170613</td>\n",
       "      <td>-1.249608</td>\n",
       "    </tr>\n",
       "    <tr>\n",
       "      <th>310501</th>\n",
       "      <td>0.199466</td>\n",
       "      <td>-1.042985</td>\n",
       "      <td>1.415273</td>\n",
       "      <td>-0.479129</td>\n",
       "      <td>0.407864</td>\n",
       "      <td>-0.569267</td>\n",
       "      <td>0.263717</td>\n",
       "      <td>-1.534133</td>\n",
       "      <td>-0.532016</td>\n",
       "      <td>-1.638759</td>\n",
       "      <td>...</td>\n",
       "      <td>-0.151388</td>\n",
       "      <td>-0.163940</td>\n",
       "      <td>-0.191376</td>\n",
       "      <td>-0.181644</td>\n",
       "      <td>-0.194499</td>\n",
       "      <td>-0.088234</td>\n",
       "      <td>-0.257198</td>\n",
       "      <td>-0.532016</td>\n",
       "      <td>-0.874926</td>\n",
       "      <td>1.434988</td>\n",
       "    </tr>\n",
       "    <tr>\n",
       "      <th>470870</th>\n",
       "      <td>1.182142</td>\n",
       "      <td>-1.042985</td>\n",
       "      <td>-0.762099</td>\n",
       "      <td>0.866325</td>\n",
       "      <td>-0.318380</td>\n",
       "      <td>0.788852</td>\n",
       "      <td>1.698759</td>\n",
       "      <td>-0.818891</td>\n",
       "      <td>1.879641</td>\n",
       "      <td>-1.638759</td>\n",
       "      <td>...</td>\n",
       "      <td>-0.151388</td>\n",
       "      <td>-0.163940</td>\n",
       "      <td>-0.191376</td>\n",
       "      <td>-0.181644</td>\n",
       "      <td>-0.194499</td>\n",
       "      <td>-0.088234</td>\n",
       "      <td>1.107682</td>\n",
       "      <td>1.879641</td>\n",
       "      <td>-0.874926</td>\n",
       "      <td>0.763839</td>\n",
       "    </tr>\n",
       "    <tr>\n",
       "      <th>72201</th>\n",
       "      <td>-0.783210</td>\n",
       "      <td>0.958787</td>\n",
       "      <td>-1.487890</td>\n",
       "      <td>0.866325</td>\n",
       "      <td>-1.044624</td>\n",
       "      <td>0.788852</td>\n",
       "      <td>0.981238</td>\n",
       "      <td>0.611591</td>\n",
       "      <td>-0.532016</td>\n",
       "      <td>-1.638759</td>\n",
       "      <td>...</td>\n",
       "      <td>-0.151388</td>\n",
       "      <td>-0.163940</td>\n",
       "      <td>-0.191376</td>\n",
       "      <td>-0.181644</td>\n",
       "      <td>-0.194499</td>\n",
       "      <td>-0.088234</td>\n",
       "      <td>1.107682</td>\n",
       "      <td>-0.532016</td>\n",
       "      <td>1.170613</td>\n",
       "      <td>-1.249608</td>\n",
       "    </tr>\n",
       "    <tr>\n",
       "      <th>449854</th>\n",
       "      <td>1.182142</td>\n",
       "      <td>-1.042985</td>\n",
       "      <td>0.689482</td>\n",
       "      <td>-1.151856</td>\n",
       "      <td>1.134108</td>\n",
       "      <td>0.109793</td>\n",
       "      <td>-1.171326</td>\n",
       "      <td>1.326833</td>\n",
       "      <td>-0.532016</td>\n",
       "      <td>-0.316313</td>\n",
       "      <td>...</td>\n",
       "      <td>-0.151388</td>\n",
       "      <td>-0.163940</td>\n",
       "      <td>-0.191376</td>\n",
       "      <td>-0.181644</td>\n",
       "      <td>-0.194499</td>\n",
       "      <td>-0.088234</td>\n",
       "      <td>-2.304519</td>\n",
       "      <td>-0.532016</td>\n",
       "      <td>1.170613</td>\n",
       "      <td>0.763839</td>\n",
       "    </tr>\n",
       "    <tr>\n",
       "      <th>346291</th>\n",
       "      <td>0.199466</td>\n",
       "      <td>-1.042985</td>\n",
       "      <td>-1.487890</td>\n",
       "      <td>1.539052</td>\n",
       "      <td>-0.318380</td>\n",
       "      <td>1.467912</td>\n",
       "      <td>1.698759</td>\n",
       "      <td>0.611591</td>\n",
       "      <td>-0.532016</td>\n",
       "      <td>1.006134</td>\n",
       "      <td>...</td>\n",
       "      <td>-0.151388</td>\n",
       "      <td>-0.163940</td>\n",
       "      <td>-0.191376</td>\n",
       "      <td>-0.181644</td>\n",
       "      <td>-0.194499</td>\n",
       "      <td>-0.088234</td>\n",
       "      <td>1.107682</td>\n",
       "      <td>-0.532016</td>\n",
       "      <td>-0.874926</td>\n",
       "      <td>1.434988</td>\n",
       "    </tr>\n",
       "  </tbody>\n",
       "</table>\n",
       "<p>10 rows × 169 columns</p>\n",
       "</div>"
      ],
      "text/plain": [
       "             0         1         2         3         4         5         6    \\\n",
       "601800 -1.765886  0.958787 -0.762099 -1.151856  1.134108 -1.248327 -1.171326   \n",
       "372196  0.199466 -1.042985 -0.762099  0.866325 -1.044624  0.109793  0.981238   \n",
       "697801  0.199466  0.958787  1.415273 -1.151856  1.134108 -1.248327 -1.171326   \n",
       "507085 -0.783210 -1.042985 -0.036308  0.193598 -0.318380  0.109793 -1.171326   \n",
       "148128  1.182142  0.958787 -0.036308 -1.151856  1.134108 -0.569267 -0.453805   \n",
       "310501  0.199466 -1.042985  1.415273 -0.479129  0.407864 -0.569267  0.263717   \n",
       "470870  1.182142 -1.042985 -0.762099  0.866325 -0.318380  0.788852  1.698759   \n",
       "72201  -0.783210  0.958787 -1.487890  0.866325 -1.044624  0.788852  0.981238   \n",
       "449854  1.182142 -1.042985  0.689482 -1.151856  1.134108  0.109793 -1.171326   \n",
       "346291  0.199466 -1.042985 -1.487890  1.539052 -0.318380  1.467912  1.698759   \n",
       "\n",
       "             7         8         9      ...          159       160       161  \\\n",
       "601800  1.326833 -0.532016  1.006134    ...    -0.151388 -0.163940 -0.191376   \n",
       "372196 -0.818891 -0.532016  1.006134    ...    -0.151388  6.099779 -0.191376   \n",
       "697801 -0.818891  1.879641 -1.638759    ...    -0.151388 -0.163940 -0.191376   \n",
       "507085  0.611591 -0.532016  1.006134    ...    -0.151388 -0.163940 -0.191376   \n",
       "148128  1.326833 -0.532016 -0.316313    ...    -0.151388 -0.163940 -0.191376   \n",
       "310501 -1.534133 -0.532016 -1.638759    ...    -0.151388 -0.163940 -0.191376   \n",
       "470870 -0.818891  1.879641 -1.638759    ...    -0.151388 -0.163940 -0.191376   \n",
       "72201   0.611591 -0.532016 -1.638759    ...    -0.151388 -0.163940 -0.191376   \n",
       "449854  1.326833 -0.532016 -0.316313    ...    -0.151388 -0.163940 -0.191376   \n",
       "346291  0.611591 -0.532016  1.006134    ...    -0.151388 -0.163940 -0.191376   \n",
       "\n",
       "             162       163       164       165       166       167       168  \n",
       "601800 -0.181644 -0.194499 -0.088234 -1.622078 -0.532016  0.488767 -1.249608  \n",
       "372196 -0.181644 -0.194499 -0.088234  1.107682 -0.532016  1.170613 -0.578459  \n",
       "697801 -0.181644 -0.194499 -0.088234 -0.939638  1.879641 -0.874926  1.434988  \n",
       "507085 -0.181644 -0.194499 -0.088234 -0.257198 -0.532016  0.488767 -1.249608  \n",
       "148128 -0.181644 -0.194499 -0.088234  1.107682 -0.532016  1.170613 -1.249608  \n",
       "310501 -0.181644 -0.194499 -0.088234 -0.257198 -0.532016 -0.874926  1.434988  \n",
       "470870 -0.181644 -0.194499 -0.088234  1.107682  1.879641 -0.874926  0.763839  \n",
       "72201  -0.181644 -0.194499 -0.088234  1.107682 -0.532016  1.170613 -1.249608  \n",
       "449854 -0.181644 -0.194499 -0.088234 -2.304519 -0.532016  1.170613  0.763839  \n",
       "346291 -0.181644 -0.194499 -0.088234  1.107682 -0.532016 -0.874926  1.434988  \n",
       "\n",
       "[10 rows x 169 columns]"
      ]
     },
     "execution_count": 12,
     "metadata": {},
     "output_type": "execute_result"
    }
   ],
   "source": [
    "pd.DataFrame(df_clean_zscore).sample(10)"
   ]
  },
  {
   "cell_type": "markdown",
   "metadata": {},
   "source": [
    "### Discussion 2.1: Apply Feature Scaling\n",
    "\n",
    "(Double-click this cell and replace this text with your own text, reporting your decisions regarding feature scaling.)\n",
    "\n",
    "using StandardScaler to scale the clean df. I removed all nans prior to that step. \n",
    "By default, StandardScaler will give a scaled z score for each entry\n"
   ]
  },
  {
   "cell_type": "markdown",
   "metadata": {},
   "source": [
    "### Step 2.2: Perform Dimensionality Reduction\n",
    "\n",
    "On your scaled data, you are now ready to apply dimensionality reduction techniques.\n",
    "\n",
    "- Use sklearn's [PCA](http://scikit-learn.org/stable/modules/generated/sklearn.decomposition.PCA.html) class to apply principal component analysis on the data, thus finding the vectors of maximal variance in the data. To start, you should not set any parameters (so all components are computed) or set a number of components that is at least half the number of features (so there's enough features to see the general trend in variability).\n",
    "- Check out the ratio of variance explained by each principal component as well as the cumulative variance explained. Try plotting the cumulative or sequential values using matplotlib's [`plot()`](https://matplotlib.org/api/_as_gen/matplotlib.pyplot.plot.html) function. Based on what you find, select a value for the number of transformed features you'll retain for the clustering part of the project.\n",
    "- Once you've made a choice for the number of components to keep, make sure you re-fit a PCA instance to perform the decided-on transformation."
   ]
  },
  {
   "cell_type": "code",
   "execution_count": 8,
   "metadata": {
    "collapsed": true
   },
   "outputs": [],
   "source": [
    "# Apply PCA to the data.\n",
    "def do_pca(data, num_components = None):\n",
    "    '''\n",
    "    dimensionality reduction using Pricipal Comp. analysis. \n",
    "    \n",
    "    args:\n",
    "    data(ndarray) - must be scaled \n",
    "    \n",
    "    returns pca object and transformed dataset\n",
    "    '''\n",
    "    pca = PCA(num_components) # num_components defaults to None. \n",
    "    X_pca = pca.fit_transform(data)\n",
    "    return pca, X_pca\n",
    "\n",
    "def scree_plot(pca):\n",
    "    '''\n",
    "    Creates a scree plot associated with the principal components \n",
    "    \n",
    "    INPUT: pca - the result of instantian of PCA in scikit learn\n",
    "            \n",
    "    OUTPUT:None\n",
    "    \n",
    "    Was used in the course. credit to Udacity. I added some stuff. \n",
    "            \n",
    "    '''\n",
    "    num_components=len(pca.explained_variance_ratio_)\n",
    "    ind = np.arange(num_components)\n",
    "    vals = pca.explained_variance_ratio_\n",
    " \n",
    "    plt.figure(figsize=(18, 10))\n",
    "    ax = plt.subplot(111)\n",
    "    cumvals = np.cumsum(vals)\n",
    "    ax.bar(ind, vals)\n",
    "    ax.plot(ind, cumvals)\n",
    "    for i in range(5): # give annotaion only for the first 5 bars\n",
    "        ax.annotate(r\"%s%%\" % ((str(vals[i]*100)[:4])), (ind[i]+0.2, vals[i]), va=\"bottom\", \n",
    "                    fontsize=13,rotation=45)\n",
    " \n",
    "    ax.xaxis.set_tick_params(width=2)\n",
    "    ax.yaxis.set_tick_params(width=3, length=12)\n",
    " \n",
    "    ax.set_xlabel(\"Principal Component\")\n",
    "    ax.set_ylabel(\"Variance Explained (%)\")\n",
    "    # There should be ~170 components but I only care when the cumulative sum is roughly above 80%. \n",
    "    # so I trimmed the plot from 1st component to ~100th component:\n",
    "    if max(ind) > 150:\n",
    "        ax.set_xlim(-1, max(ind) - 60)\n",
    "    else:\n",
    "        # this is for the final scree plot. after I find ideal component number.\n",
    "        ax.set_xlim(-1, max(ind))\n",
    "        \n",
    "    plt.title('Explained Variance Per Principal Component')\n",
    "\n"
   ]
  },
  {
   "cell_type": "code",
   "execution_count": 9,
   "metadata": {
    "collapsed": true
   },
   "outputs": [],
   "source": [
    "pca, X_pca = do_pca(df_clean_zscore)"
   ]
  },
  {
   "cell_type": "code",
   "execution_count": null,
   "metadata": {
    "collapsed": true
   },
   "outputs": [],
   "source": [
    "# Investigate the variance accounted for by each principal component.\n",
    "scree_plot(pca)"
   ]
  },
  {
   "cell_type": "code",
   "execution_count": 10,
   "metadata": {},
   "outputs": [
    {
     "name": "stdout",
     "output_type": "stream",
     "text": [
      "number of components: 70\n",
      " exp_var_percent: 75.64071685118734\n",
      "\n",
      "number of components: 72\n",
      " exp_var_percent: 76.82854066904272\n",
      "\n",
      "number of components: 74\n",
      " exp_var_percent: 78.01253136111707\n",
      "\n",
      "number of components: 76\n",
      " exp_var_percent: 79.19363854123091\n",
      "\n",
      "number of components: 78\n",
      " exp_var_percent: 80.37284281831957\n",
      "\n",
      "number of components: 80\n",
      " exp_var_percent: 81.54243914542708\n",
      "\n",
      "number of components: 82\n",
      " exp_var_percent: 82.69382107037708\n",
      "\n",
      "number of components: 84\n",
      " exp_var_percent: 83.82492911859188\n",
      "\n",
      "number of components: 86\n",
      " exp_var_percent: 84.93066365576621\n",
      "\n",
      "number of components: 88\n",
      " exp_var_percent: 86.00067065457202\n",
      "\n",
      "chosen component number: 88\n",
      "PCA was successfully re-applied\n"
     ]
    }
   ],
   "source": [
    "# Re-apply PCA to the data while selecting for number of components to retain.\n",
    "\n",
    "# if the explained variance percentage is higher than 85, I would consider it\n",
    "# satisfactory performance. \n",
    "\n",
    "def select_comp_number(pca, min_comp, max_comp):\n",
    "    '''\n",
    "    selecting proper number of compoennts to achieve ~85% explained variance\n",
    "    \n",
    "    returns the number of componens that produce more than 85%.  \n",
    "    '''\n",
    "    for comp in np.arange(min_comp, max_comp, 2):\n",
    "        exp_var_percent = pca.explained_variance_ratio_[:comp].sum() * 100\n",
    "        print(f\"number of components: {comp}\\n exp_var_percent: {exp_var_percent}\")\n",
    "        print()\n",
    "        if exp_var_percent > 85:\n",
    "            print(f\"chosen component number: {comp}\")\n",
    "            break\n",
    "    # after you find the ideal comp number, redo pca with that number of components and return the object\n",
    "    # and transformed data and component number. \n",
    "    \n",
    "    pca, X_pca = do_pca(data=df_clean_zscore, num_components=comp)\n",
    "    print(\"PCA was successfully re-applied\")\n",
    "    return pca, X_pca, comp\n",
    "\n",
    "pca, X_pca, components_number = select_comp_number(pca, 70, 90)"
   ]
  },
  {
   "cell_type": "code",
   "execution_count": 11,
   "metadata": {},
   "outputs": [
    {
     "data": {
      "image/png": "[encoded data removed]",
      "text/plain": [
       "<matplotlib.figure.Figure at 0x7ff2a0cc4a90>"
      ]
     },
     "metadata": {
      "needs_background": "light"
     },
     "output_type": "display_data"
    }
   ],
   "source": [
    "# final scree plot.\n",
    "scree_plot(pca)"
   ]
  },
  {
   "cell_type": "markdown",
   "metadata": {},
   "source": [
    "### Discussion 2.2: Perform Dimensionality Reduction\n",
    "\n",
    "(Double-click this cell and replace this text with your own text, reporting your findings and decisions regarding dimensionality reduction. How many principal components / transformed features are you retaining for the next step of the analysis?)\n",
    "\n",
    "In order to determine a reasonable component number for the pca reduction method, I used sklearn pca's explained_variance_ratio_ function and summed all the explained variance until it produced ~85%. \n",
    "The number of components that explain more than 85% of the variance in the original data is roughly 88. \n",
    "\n",
    "88 was chosen as the ideal number of pca components. \n",
    "\n",
    "A scree plot with top 5 explained variances is shown above. "
   ]
  },
  {
   "cell_type": "markdown",
   "metadata": {},
   "source": [
    "### Step 2.3: Interpret Principal Components\n",
    "\n",
    "Now that we have our transformed principal components, it's a nice idea to check out the weight of each variable on the first few components to see if they can be interpreted in some fashion.\n",
    "\n",
    "As a reminder, each principal component is a unit vector that points in the direction of highest variance (after accounting for the variance captured by earlier principal components). The further a weight is from zero, the more the principal component is in the direction of the corresponding feature. If two features have large weights of the same sign (both positive or both negative), then increases in one tend expect to be associated with increases in the other. To contrast, features with different signs can be expected to show a negative correlation: increases in one variable should result in a decrease in the other.\n",
    "\n",
    "- To investigate the features, you should map each weight to their corresponding feature name, then sort the features according to weight. The most interesting features for each principal component, then, will be those at the beginning and end of the sorted list. Use the data dictionary document to help you understand these most prominent features, their relationships, and what a positive or negative value on the principal component might indicate.\n",
    "- You should investigate and interpret feature associations from the first three principal components in this substep. To help facilitate this, you should write a function that you can call at any time to print the sorted list of feature weights, for the *i*-th principal component. This might come in handy in the next step of the project, when you interpret the tendencies of the discovered clusters."
   ]
  },
  {
   "cell_type": "code",
   "execution_count": 158,
   "metadata": {
    "scrolled": false
   },
   "outputs": [
    {
     "name": "stdout",
     "output_type": "stream",
     "text": [
      "                        component #0\n",
      "LP_STATUS_GROB_1.0            0.1935\n",
      "PLZ8_ANTG3                    0.1902\n",
      "CAMEO_INTL_2015_WEALTH        0.1877\n",
      "PLZ8_ANTG4                    0.1843\n",
      "MOBI_REGIO                   -0.1966\n",
      "FINANZ_MINIMALIST            -0.1926\n",
      "PLZ8_ANTG1                   -0.1912\n",
      "KBA05_ANTG1                  -0.1863\n"
     ]
    },
    {
     "data": {
      "image/png": "[encoded data removed]",
      "text/plain": [
       "<matplotlib.figure.Figure at 0x7ff29e0cbf28>"
      ]
     },
     "metadata": {
      "needs_background": "light"
     },
     "output_type": "display_data"
    },
    {
     "name": "stdout",
     "output_type": "stream",
     "text": [
      "                              component #1\n",
      "ALTERSKATEGORIE_GROB                0.2363\n",
      "FINANZ_VORSORGER                    0.2204\n",
      "ZABEOTYP_3                          0.2043\n",
      "SEMIO_ERL                           0.1922\n",
      "PRAEGENDE_JUGENDJAHRE_DECADE       -0.2315\n",
      "FINANZ_SPARER                      -0.2255\n",
      "SEMIO_REL                          -0.2240\n",
      "FINANZ_UNAUFFAELLIGER              -0.2166\n"
     ]
    },
    {
     "data": {
      "image/png": "[encoded data removed]",
      "text/plain": [
       "<matplotlib.figure.Figure at 0x7ff29dbcd400>"
      ]
     },
     "metadata": {
      "needs_background": "light"
     },
     "output_type": "display_data"
    },
    {
     "name": "stdout",
     "output_type": "stream",
     "text": [
      "            component #2\n",
      "SEMIO_VERT        0.3257\n",
      "SEMIO_SOZ         0.2574\n",
      "SEMIO_FAM         0.2545\n",
      "SEMIO_KULT        0.2427\n",
      "ANREDE_KZ        -0.3492\n",
      "SEMIO_KAEM       -0.3206\n",
      "SEMIO_DOM        -0.2904\n",
      "SEMIO_KRIT       -0.2681\n"
     ]
    },
    {
     "data": {
      "image/png": "[encoded data removed]",
      "text/plain": [
       "<matplotlib.figure.Figure at 0x7ff29e9637b8>"
      ]
     },
     "metadata": {
      "needs_background": "light"
     },
     "output_type": "display_data"
    },
    {
     "name": "stdout",
     "output_type": "stream",
     "text": [
      "                                component #3\n",
      "GREEN_AVANTGARDE                      0.3180\n",
      "PRAEGENDE_JUGENDJAHRE_MOVEMENT        0.3180\n",
      "LP_STATUS_GROB_5.0                    0.2428\n",
      "EWDICHTE                              0.2211\n",
      "WOHNLAGE                             -0.2336\n",
      "KKK                                  -0.2104\n",
      "HH_EINKOMMEN_SCORE                   -0.1954\n",
      "BALLRAUM                             -0.1892\n"
     ]
    },
    {
     "data": {
      "image/png": "[encoded data removed]",
      "text/plain": [
       "<matplotlib.figure.Figure at 0x7ff29dbcd358>"
      ]
     },
     "metadata": {
      "needs_background": "light"
     },
     "output_type": "display_data"
    }
   ],
   "source": [
    "#################################################################### \n",
    "# for all plots: \n",
    "def pca_results(full_dataset, pca, min_comp=0,number_dims=4):\n",
    "    '''\n",
    "    Create a DataFrame of the PCA results\n",
    "    Includes dimension feature weights and explained variance\n",
    "    Visualizes the PCA results\n",
    "    '''\n",
    "    # Dimension indexing\n",
    "    dimensions = ['component #{}'.format(i) for i in range(min_comp,number_dims)]\n",
    "    for i in range(min_comp,number_dims):\n",
    "        component = pd.DataFrame(np.round(pca.components_[i].reshape(1,-1), 4), columns = full_dataset.keys())\n",
    "        component.index = [dimensions[i-min_comp]]\n",
    "        # need to sort features according to weight:\n",
    "        component = component.transpose()\n",
    "        # give me the 4 highest values and 4 lowest values for the ith component: \n",
    "        nlargest, nsmallest = (component.nlargest(4, columns = dimensions[i-min_comp]), component.nsmallest(4, columns = dimensions[i-min_comp]))\n",
    "        one_component = nlargest.append(nsmallest).transpose()\n",
    "    \n",
    "        #print largest/smallest features for each component and plot the ith component\n",
    "        print(one_component.transpose())\n",
    "        fig, ax = plt.subplots(figsize = (14,6))\n",
    "        one_component.plot(ax = ax, kind = 'bar')\n",
    "        ax.set_ylabel(\"Feature Weights\")\n",
    "        ax.set_xticklabels([dimensions[i-min_comp]], rotation=0)\n",
    "        plt.show()\n",
    "        \n",
    "    \n",
    "pca_results(df_clean, pca)"
   ]
  },
  {
   "cell_type": "code",
   "execution_count": null,
   "metadata": {
    "collapsed": true
   },
   "outputs": [],
   "source": [
    "# Map weights for the second principal component to corresponding feature names\n",
    "# and then print the linked values, sorted by weight.\n",
    "\n",
    "# see function above "
   ]
  },
  {
   "cell_type": "code",
   "execution_count": null,
   "metadata": {
    "collapsed": true
   },
   "outputs": [],
   "source": [
    "# Map weights for the third principal component to corresponding feature names\n",
    "# and then print the linked values, sorted by weight.\n",
    "\n",
    "# see function above. \n",
    "# I added an extra component. can adjust it by changing number_dims = n,\n",
    "# or get a range of components (needed for last section) using min_comp"
   ]
  },
  {
   "cell_type": "markdown",
   "metadata": {},
   "source": [
    "### Discussion 2.3: Interpret Principal Components\n",
    "\n",
    "(Double-click this cell and replace this text with your own text, reporting your observations from detailed investigation of the first few principal components generated. Can we interpret positive and negative values from them in a meaningful way?)\n",
    "\n",
    "\n",
    "From the first three plots above:\n",
    "component #0 attributes:\n",
    "1. LP_STATUS_GROB_1.0  - Social status\n",
    "2. PLZ8_ANTG3 - Number of 6-10 family houses in the PLZ8 region\n",
    "3. CAMEO_INTL_2015_WEALTH  - Wealth     \n",
    "4. PLZ8_ANTG4         -    Number of 10+ family houses in the PLZ8 region      \n",
    "5. MOBI_REGIO           - Movement patterns        \n",
    "6. FINANZ_MINIMALIST         - Financial typology, for each dimension:   \n",
    "7. PLZ8_ANTG1        - Number of 1-2 family houses in the PLZ8 region            \n",
    "8. KBA05_ANTG1  - Number of 1-2 family houses in the microcell\n",
    "\n",
    "\n",
    "\n",
    "component #1:\n",
    "1. ALTERSKATEGORIE_GROB  - Estimated age based on given name analysis            \n",
    "2. FINANZ_VORSORGER      -    Financial typology, for each dimension        \n",
    "3. ZABEOTYP_3             -          Energy consumption typology(3 = fair supplied)\n",
    "4. SEMIO_ERL               -        Personality typology\n",
    "5. PRAEGENDE_JUGENDJAHRE_DECADE -   persons youth (age decade)\n",
    "6. FINANZ_SPARER                 -   Financial typology\n",
    "7. SEMIO_REL                     -  Personality\n",
    "8. FINANZ_UNAUFFAELLIGER        - Financial typology\n",
    "\n",
    "component #2:\n",
    "1. SEMIO_VERT      - Personality typology\n",
    "2. SEMIO_SOZ      - Personality typology \n",
    "3. SEMIO_FAM       - Personality typology\n",
    "4. SEMIO_KULT    - Personality typology\n",
    "5. ANREDE_KZ     - gender \n",
    "6. SEMIO_KAEM    -Personality typology\n",
    "7. SEMIO_DOM     -Personality typology\n",
    "8. SEMIO_KRIT  -Personality typology  \n",
    "\n",
    "\n",
    "\n",
    "\n",
    "\n",
    "component #0: mostly based on social status, wealth, financial level\n",
    "\n",
    "\n",
    "component #1: mostly based on age, financial level, energy consumption, personality\n",
    "\n",
    "\n",
    "component #2: all about personality and gender\n",
    "\n",
    "The highly positive features (first 4 rows in each table) seem to be roughly equal in magnitude to the negative features (last 4 rows in each table).\n",
    "Increases in one variable should result in a decrease in the other.\n",
    "For example, in component #2 age is the highest positive variable, and financial level is the most negative.\n",
    "Can perhaps infer that financial level is related to age (more experience with age --> higher salary perhaps)\n",
    "These two features are negatively correlated. \n",
    "\n",
    "Another example: in comp #2: (semio_vert =  dreamful) and (SEMIO_KRIT = critical thinker). \n",
    "It makes sense that these two outcomes are negatively correlated. \n",
    "\n"
   ]
  },
  {
   "cell_type": "markdown",
   "metadata": {},
   "source": [
    "## Step 3: Clustering\n",
    "\n",
    "### Step 3.1: Apply Clustering to General Population\n",
    "\n",
    "You've assessed and cleaned the demographics data, then scaled and transformed them. Now, it's time to see how the data clusters in the principal components space. In this substep, you will apply k-means clustering to the dataset and use the average within-cluster distances from each point to their assigned cluster's centroid to decide on a number of clusters to keep.\n",
    "\n",
    "- Use sklearn's [KMeans](http://scikit-learn.org/stable/modules/generated/sklearn.cluster.KMeans.html#sklearn.cluster.KMeans) class to perform k-means clustering on the PCA-transformed data.\n",
    "- Then, compute the average difference from each point to its assigned cluster's center. **Hint**: The KMeans object's `.score()` method might be useful here, but note that in sklearn, scores tend to be defined so that larger is better. Try applying it to a small, toy dataset, or use an internet search to help your understanding.\n",
    "- Perform the above two steps for a number of different cluster counts. You can then see how the average distance decreases with an increasing number of clusters. However, each additional cluster provides a smaller net benefit. Use this fact to select a final number of clusters in which to group the data. **Warning**: because of the large size of the dataset, it can take a long time for the algorithm to resolve. The more clusters to fit, the longer the algorithm will take. You should test for cluster counts through at least 10 clusters to get the full picture, but you shouldn't need to test for a number of clusters above about 30.\n",
    "- Once you've selected a final number of clusters to use, re-fit a KMeans instance to perform the clustering operation. Make sure that you also obtain the cluster assignments for the general demographics data, since you'll be using them in the final Step 3.3."
   ]
  },
  {
   "cell_type": "code",
   "execution_count": 31,
   "metadata": {},
   "outputs": [
    {
     "data": {
      "text/plain": [
       "(77760, 88)"
      ]
     },
     "execution_count": 31,
     "metadata": {},
     "output_type": "execute_result"
    }
   ],
   "source": [
    "# choosing every 10th row as a sample: \n",
    "df_pca = pd.DataFrame(X_pca)\n",
    "data_pca_sample = df_pca.iloc[::10, :].values\n",
    "data_pca_sample.shape"
   ]
  },
  {
   "cell_type": "code",
   "execution_count": 32,
   "metadata": {},
   "outputs": [
    {
     "name": "stdout",
     "output_type": "stream",
     "text": [
      "k = 10\n",
      "score:8930596.625886079\n",
      "\n",
      "k = 11\n",
      "score:8880777.181906627\n",
      "\n",
      "k = 12\n",
      "score:8796954.943589302\n",
      "\n",
      "k = 13\n",
      "score:8730199.276335008\n",
      "\n",
      "k = 14\n",
      "score:8648149.734716406\n",
      "\n",
      "k = 15\n",
      "score:8614410.508354489\n",
      "\n",
      "k = 16\n",
      "score:8534678.24205789\n",
      "\n",
      "k = 17\n",
      "score:8431034.53151968\n",
      "\n",
      "k = 18\n",
      "score:8366334.560795299\n",
      "\n",
      "k = 19\n",
      "score:8315500.570725066\n",
      "\n",
      "k = 20\n",
      "score:8238775.182163367\n",
      "\n",
      "k = 21\n",
      "score:8201806.981446931\n",
      "\n",
      "k = 22\n",
      "score:8122639.641216757\n",
      "\n",
      "k = 23\n",
      "score:8070374.495758574\n",
      "\n",
      "k = 24\n",
      "score:7974987.993926992\n",
      "\n",
      "k = 25\n",
      "score:7939708.783341624\n",
      "\n",
      "k = 26\n",
      "score:7868679.691613764\n",
      "\n",
      "k = 27\n",
      "score:7792422.016457489\n",
      "\n",
      "k = 28\n",
      "score:7728015.652301502\n",
      "\n",
      "k = 29\n",
      "score:7603271.19342114\n",
      "\n",
      "k = 30\n",
      "score:7554840.560444389\n",
      "\n",
      "k = 31\n",
      "score:7484372.847848953\n",
      "\n",
      "k = 32\n",
      "score:7415573.044530895\n",
      "\n",
      "k = 33\n",
      "score:7382929.738625012\n",
      "\n",
      "k = 34\n",
      "score:7299241.319882972\n",
      "\n"
     ]
    }
   ],
   "source": [
    "# Over a number of different cluster counts...\n",
    "# Understanding the documentation of score before I do any calcualtions: \n",
    "# It says \"Opposite of the value of X on the K-means objective.\"\n",
    "# Ithink opposite here means negative of the K-means objective.\n",
    "\n",
    "def get_kmeans_score(data, center):\n",
    "    '''\n",
    "    returns the kmeans score regarding SSE for points to centers\n",
    "    INPUT:\n",
    "        data(ndarray) - dataset to fit kmeans to\n",
    "        center(int) - the number of centers you want (the k value)\n",
    "    OUTPUT:\n",
    "        score(float) - the SSE score for the kmeans model fit to the data\n",
    "        \n",
    "    '''\n",
    "    kmeans = KMeans(n_clusters=center,random_state=42)\n",
    "    model = kmeans.fit(data)\n",
    "    score = np.abs(model.score(data))\n",
    "    \n",
    "    return score\n",
    "\n",
    "scores = []\n",
    "# Ill take a value slightly higher than k=30. That might help see the trend. \n",
    "# this took a long time to process. \n",
    "centers = [*range(10,35)]\n",
    "\n",
    "for center in centers:\n",
    "    score = get_kmeans_score(data_pca_sample, center)\n",
    "    scores.append(score)\n",
    "    print(f\"k = {center}\\nscore:{score}\\n\")    "
   ]
  },
  {
   "cell_type": "code",
   "execution_count": 33,
   "metadata": {},
   "outputs": [
    {
     "data": {
      "image/png": "[encoded data removed]",
      "text/plain": [
       "<matplotlib.figure.Figure at 0x7ff29e6ed6a0>"
      ]
     },
     "metadata": {
      "needs_background": "light"
     },
     "output_type": "display_data"
    }
   ],
   "source": [
    "# Investigate the change in within-cluster distance across number of clusters.\n",
    "# HINT: Use matplotlib's plot function to visualize this relationship.\n",
    "\n",
    "plt.figure(figsize=(18, 7))\n",
    "plt.plot(centers, scores, linestyle='dashed', marker='8', color='navy');\n",
    "plt.xlabel('K');\n",
    "plt.ylabel('SSE');\n",
    "plt.xticks(centers)\n",
    "plt.title('SSE vs. K');\n",
    "\n",
    "# There is a rough negative linear trend across all k's.\n",
    "# The most significant dip starts at k=28, and plataeus at k=29. \n",
    "# k=29 seem like the best value using the elbow method."
   ]
  },
  {
   "cell_type": "code",
   "execution_count": 81,
   "metadata": {},
   "outputs": [
    {
     "data": {
      "text/plain": [
       "(10000, 169)"
      ]
     },
     "execution_count": 81,
     "metadata": {},
     "output_type": "execute_result"
    }
   ],
   "source": [
    "# I am not satisfied with the elbow method. I will try a different method and then conclude what k value\n",
    "# I will choose based on the two methods\n",
    "\n",
    "# Using silhouette score: this score method is not ideal for large K but it can give some extra insight\n",
    "# on the spread of the data. \n",
    "# I will take an independent random sample so it wont match the sample we had above for the other scoring method. \n",
    "df_zscore = pd.DataFrame(df_clean_zscore)\n",
    "data_sample = df_zscore.sample(10000).values\n",
    "data_sample.shape"
   ]
  },
  {
   "cell_type": "code",
   "execution_count": 45,
   "metadata": {},
   "outputs": [
    {
     "name": "stdout",
     "output_type": "stream",
     "text": [
      "Calculating Sil score for k =25\n",
      "k = 25\n",
      "silhouette_score:0.06104654786836359\n",
      "\n",
      "Calculating Sil score for k =26\n",
      "k = 26\n",
      "silhouette_score:0.05597231481411993\n",
      "\n",
      "Calculating Sil score for k =27\n",
      "k = 27\n",
      "silhouette_score:0.06226730762031218\n",
      "\n",
      "Calculating Sil score for k =28\n",
      "k = 28\n",
      "silhouette_score:0.06885690124144853\n",
      "\n",
      "Calculating Sil score for k =29\n",
      "k = 29\n",
      "silhouette_score:0.07317997566803418\n",
      "\n",
      "Calculating Sil score for k =30\n",
      "k = 30\n",
      "silhouette_score:0.07182189355128321\n",
      "\n"
     ]
    }
   ],
   "source": [
    " def get_silhouette_score(data, n_clusters):\n",
    "    clusterer = KMeans(n_clusters=n_clusters, random_state=42)\n",
    "    cluster_labels = clusterer.fit_predict(data)\n",
    "    print(f\"Calculating Sil score for k ={n_clusters}\")\n",
    "    silhouette_avg = silhouette_score(data, cluster_labels,n_jobs=-1)\n",
    "    \n",
    "    return silhouette_avg\n",
    "\n",
    "scores_sil = []\n",
    "centers = [*range(25,31)]\n",
    "\n",
    "for center in centers:\n",
    "    sil_score = get_silhouette_score(data_sample, center)\n",
    "    scores_sil.append(sil_score)\n",
    "    print(f\"k = {center}\\nsilhouette_score:{sil_score}\\n\") "
   ]
  },
  {
   "cell_type": "code",
   "execution_count": 83,
   "metadata": {},
   "outputs": [
    {
     "data": {
      "image/png": "[encoded data removed]",
      "text/plain": [
       "<matplotlib.figure.Figure at 0x7ff29e67cef0>"
      ]
     },
     "metadata": {
      "needs_background": "light"
     },
     "output_type": "display_data"
    }
   ],
   "source": [
    "# I do not want to run the sil scores again, for some reason my notebook gets stuck due to memory issues, even\n",
    "# though the sample size is quite small. \n",
    "# I manually saved the scores:\n",
    "centers = [*range(25,31)]\n",
    "scores_sil = [0.06104654786836359,0.05597231481411993,0.06226730762031218, 0.06885690124144853,0.07317997566803418,0.07182189355128321 ]\n",
    "\n",
    "plt.figure(figsize=(18, 7))\n",
    "plt.plot(centers, scores_sil, linestyle='dashed', marker='8', color='navy');\n",
    "plt.xlabel('K');\n",
    "plt.ylabel('score');\n",
    "plt.xticks(centers)\n",
    "plt.title('SSE vs. K');\n",
    "\n",
    "# there is a peak at k=29. \n",
    "# since both methods show that k=29 is the best choice in the range of 10-30, k is chosen to be 29.\n"
   ]
  },
  {
   "cell_type": "code",
   "execution_count": 85,
   "metadata": {},
   "outputs": [],
   "source": [
    "# Re-fit the k-means model with the selected number of clusters and obtain\n",
    "# cluster predictions for the general population demographics data.\n",
    "k = 29\n",
    "kmeans = KMeans(n_clusters=k, random_state=42, n_jobs=-1)\n",
    "kmeans_model = kmeans.fit(X_pca)\n",
    "predict_pop_general = kmeans_model.predict(X_pca)"
   ]
  },
  {
   "cell_type": "code",
   "execution_count": 99,
   "metadata": {},
   "outputs": [
    {
     "data": {
      "text/plain": [
       "array([ 5, 15, 17, ..., 24, 11, 12], dtype=int32)"
      ]
     },
     "execution_count": 99,
     "metadata": {},
     "output_type": "execute_result"
    }
   ],
   "source": [
    "# cluster predictions on the general population dataset with dim reduction:\n",
    "predict_pop_general"
   ]
  },
  {
   "cell_type": "markdown",
   "metadata": {},
   "source": [
    "### Discussion 3.1: Apply Clustering to General Population\n",
    "\n",
    "(Double-click this cell and replace this text with your own text, reporting your findings and decisions regarding clustering. Into how many clusters have you decided to segment the population?)\n",
    "\n",
    "k = 29.\n",
    "Was chosen using two scoring methods: score() and silhouette_score(). \n",
    "The first method produced an array of score values that were plotted. There was a small elbow at k=29,\n",
    "but I was not sure, the trend is mostly linear and negative througout all k's. So I needed another method to make sure k = 29 is a good estimate. \n",
    "The peak in the silhouette_score() plot at k=29 helped me verify that k=29 is a reasonable choice. "
   ]
  },
  {
   "cell_type": "markdown",
   "metadata": {},
   "source": [
    "### Step 3.2: Apply All Steps to the Customer Data\n",
    "\n",
    "Now that you have clusters and cluster centers for the general population, it's time to see how the customer data maps on to those clusters. Take care to not confuse this for re-fitting all of the models to the customer data. Instead, you're going to use the fits from the general population to clean, transform, and cluster the customer data. In the last step of the project, you will interpret how the general population fits apply to the customer data.\n",
    "\n",
    "- Don't forget when loading in the customers data, that it is semicolon (`;`) delimited.\n",
    "- Apply the same feature wrangling, selection, and engineering steps to the customer demographics using the `clean_data()` function you created earlier. (You can assume that the customer demographics data has similar meaning behind missing data patterns as the general demographics data.)\n",
    "- Use the sklearn objects from the general demographics data, and apply their transformations to the customers data. That is, you should not be using a `.fit()` or `.fit_transform()` method to re-fit the old objects, nor should you be creating new sklearn objects! Carry the data through the feature scaling, PCA, and clustering steps, obtaining cluster assignments for all of the data in the customer demographics data."
   ]
  },
  {
   "cell_type": "code",
   "execution_count": 87,
   "metadata": {},
   "outputs": [],
   "source": [
    "# Load in the customer demographics data.\n",
    "customers = pd.read_csv('Udacity_CUSTOMERS_Subset.csv', delimiter=';')"
   ]
  },
  {
   "cell_type": "code",
   "execution_count": 88,
   "metadata": {},
   "outputs": [
    {
     "data": {
      "text/plain": [
       "(191652, 85)"
      ]
     },
     "execution_count": 88,
     "metadata": {},
     "output_type": "execute_result"
    }
   ],
   "source": [
    "customers.shape # same column number as original df"
   ]
  },
  {
   "cell_type": "code",
   "execution_count": 89,
   "metadata": {},
   "outputs": [
    {
     "name": "stderr",
     "output_type": "stream",
     "text": [
      "/opt/conda/lib/python3.6/site-packages/pandas/core/generic.py:5890: SettingWithCopyWarning: \n",
      "A value is trying to be set on a copy of a slice from a DataFrame\n",
      "\n",
      "See the caveats in the documentation: http://pandas.pydata.org/pandas-docs/stable/indexing.html#indexing-view-versus-copy\n",
      "  self._update_inplace(new_data)\n",
      "/opt/conda/lib/python3.6/site-packages/ipykernel_launcher.py:163: SettingWithCopyWarning: \n",
      "A value is trying to be set on a copy of a slice from a DataFrame.\n",
      "Try using .loc[row_indexer,col_indexer] = value instead\n",
      "\n",
      "See the caveats in the documentation: http://pandas.pydata.org/pandas-docs/stable/indexing.html#indexing-view-versus-copy\n"
     ]
    }
   ],
   "source": [
    "# Apply preprocessing, feature transformation, and clustering from the general\n",
    "# demographics onto the customer data, obtaining cluster predictions for the\n",
    "# customer demographics data.\n",
    "df_clean_customers, shape_df= clean_data(df=customers, feat_info=feat_info , thresh=9, general_df=False)\n"
   ]
  },
  {
   "cell_type": "code",
   "execution_count": 90,
   "metadata": {},
   "outputs": [],
   "source": [
    "# I will drop all nans for this dataset, instead of imputing:\n",
    "df_clean_customers = df_clean_customers.dropna()"
   ]
  },
  {
   "cell_type": "code",
   "execution_count": 91,
   "metadata": {},
   "outputs": [
    {
     "data": {
      "text/plain": [
       "(115643, 169)"
      ]
     },
     "execution_count": 91,
     "metadata": {},
     "output_type": "execute_result"
    }
   ],
   "source": [
    "df_clean_customers.shape # a good chuck remain for analysis. "
   ]
  },
  {
   "cell_type": "code",
   "execution_count": 100,
   "metadata": {},
   "outputs": [],
   "source": [
    "# scaling, PCA, and clustering steps:\n",
    "\n",
    "df_clean_customers_zscore = scaler.transform(df_clean_customers)\n",
    "\n",
    "X_customers_pca = pca.transform(df_clean_customers_zscore)\n",
    "\n",
    "predict_customers = kmeans_model.predict(X_customers_pca)"
   ]
  },
  {
   "cell_type": "code",
   "execution_count": 101,
   "metadata": {},
   "outputs": [
    {
     "name": "stdout",
     "output_type": "stream",
     "text": [
      "[ 8 14 13 ..., 15 15  7]\n"
     ]
    },
    {
     "data": {
      "text/plain": [
       "115643"
      ]
     },
     "execution_count": 101,
     "metadata": {},
     "output_type": "execute_result"
    }
   ],
   "source": [
    "print(predict_customers) # 29 clusters. \n",
    "len(predict_customers)"
   ]
  },
  {
   "cell_type": "markdown",
   "metadata": {},
   "source": [
    "### Step 3.3: Compare Customer Data to Demographics Data\n",
    "\n",
    "At this point, you have clustered data based on demographics of the general population of Germany, and seen how the customer data for a mail-order sales company maps onto those demographic clusters. In this final substep, you will compare the two cluster distributions to see where the strongest customer base for the company is.\n",
    "\n",
    "Consider the proportion of persons in each cluster for the general population, and the proportions for the customers. If we think the company's customer base to be universal, then the cluster assignment proportions should be fairly similar between the two. If there are only particular segments of the population that are interested in the company's products, then we should see a mismatch from one to the other. If there is a higher proportion of persons in a cluster for the customer data compared to the general population (e.g. 5% of persons are assigned to a cluster for the general population, but 15% of the customer data is closest to that cluster's centroid) then that suggests the people in that cluster to be a target audience for the company. On the other hand, the proportion of the data in a cluster being larger in the general population than the customer data (e.g. only 2% of customers closest to a population centroid that captures 6% of the data) suggests that group of persons to be outside of the target demographics.\n",
    "\n",
    "Take a look at the following points in this step:\n",
    "\n",
    "- Compute the proportion of data points in each cluster for the general population and the customer data. Visualizations will be useful here: both for the individual dataset proportions, but also to visualize the ratios in cluster representation between groups. Seaborn's [`countplot()`](https://seaborn.pydata.org/generated/seaborn.countplot.html) or [`barplot()`](https://seaborn.pydata.org/generated/seaborn.barplot.html) function could be handy.\n",
    "  - Recall the analysis you performed in step 1.1.3 of the project, where you separated out certain data points from the dataset if they had more than a specified threshold of missing values. If you found that this group was qualitatively different from the main bulk of the data, you should treat this as an additional data cluster in this analysis. Make sure that you account for the number of data points in this subset, for both the general population and customer datasets, when making your computations!\n",
    "- Which cluster or clusters are overrepresented in the customer dataset compared to the general population? Select at least one such cluster and infer what kind of people might be represented by that cluster. Use the principal component interpretations from step 2.3 or look at additional components to help you make this inference. Alternatively, you can use the `.inverse_transform()` method of the PCA and StandardScaler objects to transform centroids back to the original data space and interpret the retrieved values directly.\n",
    "- Perform a similar investigation for the underrepresented clusters. Which cluster or clusters are underrepresented in the customer dataset compared to the general population, and what kinds of people are typified by these clusters?"
   ]
  },
  {
   "cell_type": "code",
   "execution_count": 102,
   "metadata": {},
   "outputs": [
    {
     "data": {
      "text/html": [
       "<div>\n",
       "<style scoped>\n",
       "    .dataframe tbody tr th:only-of-type {\n",
       "        vertical-align: middle;\n",
       "    }\n",
       "\n",
       "    .dataframe tbody tr th {\n",
       "        vertical-align: top;\n",
       "    }\n",
       "\n",
       "    .dataframe thead th {\n",
       "        text-align: right;\n",
       "    }\n",
       "</style>\n",
       "<table border=\"1\" class=\"dataframe\">\n",
       "  <thead>\n",
       "    <tr style=\"text-align: right;\">\n",
       "      <th></th>\n",
       "      <th>cluster#</th>\n",
       "      <th>population count</th>\n",
       "      <th>customer count</th>\n",
       "      <th>population proportion[%]</th>\n",
       "      <th>customer proportion[%]</th>\n",
       "      <th>difference</th>\n",
       "    </tr>\n",
       "  </thead>\n",
       "  <tbody>\n",
       "    <tr>\n",
       "      <th>0</th>\n",
       "      <td>0</td>\n",
       "      <td>24322</td>\n",
       "      <td>741</td>\n",
       "      <td>3.127849</td>\n",
       "      <td>0.640765</td>\n",
       "      <td>2.487084</td>\n",
       "    </tr>\n",
       "    <tr>\n",
       "      <th>1</th>\n",
       "      <td>1</td>\n",
       "      <td>37885</td>\n",
       "      <td>1161</td>\n",
       "      <td>4.872074</td>\n",
       "      <td>1.003952</td>\n",
       "      <td>3.868122</td>\n",
       "    </tr>\n",
       "    <tr>\n",
       "      <th>2</th>\n",
       "      <td>2</td>\n",
       "      <td>40458</td>\n",
       "      <td>12388</td>\n",
       "      <td>5.202966</td>\n",
       "      <td>10.712278</td>\n",
       "      <td>5.509313</td>\n",
       "    </tr>\n",
       "    <tr>\n",
       "      <th>3</th>\n",
       "      <td>3</td>\n",
       "      <td>48167</td>\n",
       "      <td>5866</td>\n",
       "      <td>6.194356</td>\n",
       "      <td>5.072508</td>\n",
       "      <td>1.121848</td>\n",
       "    </tr>\n",
       "    <tr>\n",
       "      <th>4</th>\n",
       "      <td>4</td>\n",
       "      <td>28280</td>\n",
       "      <td>6632</td>\n",
       "      <td>3.636855</td>\n",
       "      <td>5.734891</td>\n",
       "      <td>2.098036</td>\n",
       "    </tr>\n",
       "    <tr>\n",
       "      <th>5</th>\n",
       "      <td>5</td>\n",
       "      <td>52533</td>\n",
       "      <td>595</td>\n",
       "      <td>6.755830</td>\n",
       "      <td>0.514514</td>\n",
       "      <td>6.241316</td>\n",
       "    </tr>\n",
       "    <tr>\n",
       "      <th>6</th>\n",
       "      <td>6</td>\n",
       "      <td>31882</td>\n",
       "      <td>7863</td>\n",
       "      <td>4.100078</td>\n",
       "      <td>6.799374</td>\n",
       "      <td>2.699296</td>\n",
       "    </tr>\n",
       "    <tr>\n",
       "      <th>7</th>\n",
       "      <td>7</td>\n",
       "      <td>27473</td>\n",
       "      <td>3881</td>\n",
       "      <td>3.533073</td>\n",
       "      <td>3.356018</td>\n",
       "      <td>0.177055</td>\n",
       "    </tr>\n",
       "    <tr>\n",
       "      <th>8</th>\n",
       "      <td>8</td>\n",
       "      <td>23405</td>\n",
       "      <td>9391</td>\n",
       "      <td>3.009922</td>\n",
       "      <td>8.120682</td>\n",
       "      <td>5.110760</td>\n",
       "    </tr>\n",
       "    <tr>\n",
       "      <th>9</th>\n",
       "      <td>9</td>\n",
       "      <td>22248</td>\n",
       "      <td>2365</td>\n",
       "      <td>2.861130</td>\n",
       "      <td>2.045087</td>\n",
       "      <td>0.816042</td>\n",
       "    </tr>\n",
       "    <tr>\n",
       "      <th>10</th>\n",
       "      <td>10</td>\n",
       "      <td>30937</td>\n",
       "      <td>2033</td>\n",
       "      <td>3.978549</td>\n",
       "      <td>1.757997</td>\n",
       "      <td>2.220553</td>\n",
       "    </tr>\n",
       "    <tr>\n",
       "      <th>11</th>\n",
       "      <td>11</td>\n",
       "      <td>45103</td>\n",
       "      <td>630</td>\n",
       "      <td>5.800320</td>\n",
       "      <td>0.544780</td>\n",
       "      <td>5.255540</td>\n",
       "    </tr>\n",
       "    <tr>\n",
       "      <th>12</th>\n",
       "      <td>12</td>\n",
       "      <td>59367</td>\n",
       "      <td>13571</td>\n",
       "      <td>7.634694</td>\n",
       "      <td>11.735254</td>\n",
       "      <td>4.100560</td>\n",
       "    </tr>\n",
       "    <tr>\n",
       "      <th>13</th>\n",
       "      <td>13</td>\n",
       "      <td>48077</td>\n",
       "      <td>8063</td>\n",
       "      <td>6.182782</td>\n",
       "      <td>6.972320</td>\n",
       "      <td>0.789538</td>\n",
       "    </tr>\n",
       "    <tr>\n",
       "      <th>14</th>\n",
       "      <td>14</td>\n",
       "      <td>14523</td>\n",
       "      <td>3827</td>\n",
       "      <td>1.867682</td>\n",
       "      <td>3.309323</td>\n",
       "      <td>1.441641</td>\n",
       "    </tr>\n",
       "    <tr>\n",
       "      <th>15</th>\n",
       "      <td>15</td>\n",
       "      <td>39224</td>\n",
       "      <td>9123</td>\n",
       "      <td>5.044271</td>\n",
       "      <td>7.888934</td>\n",
       "      <td>2.844663</td>\n",
       "    </tr>\n",
       "    <tr>\n",
       "      <th>16</th>\n",
       "      <td>16</td>\n",
       "      <td>23405</td>\n",
       "      <td>3622</td>\n",
       "      <td>3.009922</td>\n",
       "      <td>3.132053</td>\n",
       "      <td>0.122131</td>\n",
       "    </tr>\n",
       "    <tr>\n",
       "      <th>17</th>\n",
       "      <td>17</td>\n",
       "      <td>12743</td>\n",
       "      <td>2211</td>\n",
       "      <td>1.638771</td>\n",
       "      <td>1.911919</td>\n",
       "      <td>0.273148</td>\n",
       "    </tr>\n",
       "    <tr>\n",
       "      <th>18</th>\n",
       "      <td>18</td>\n",
       "      <td>18617</td>\n",
       "      <td>4093</td>\n",
       "      <td>2.394177</td>\n",
       "      <td>3.539341</td>\n",
       "      <td>1.145164</td>\n",
       "    </tr>\n",
       "    <tr>\n",
       "      <th>19</th>\n",
       "      <td>19</td>\n",
       "      <td>4209</td>\n",
       "      <td>883</td>\n",
       "      <td>0.541284</td>\n",
       "      <td>0.763557</td>\n",
       "      <td>0.222272</td>\n",
       "    </tr>\n",
       "    <tr>\n",
       "      <th>20</th>\n",
       "      <td>20</td>\n",
       "      <td>6661</td>\n",
       "      <td>1176</td>\n",
       "      <td>0.856616</td>\n",
       "      <td>1.016923</td>\n",
       "      <td>0.160307</td>\n",
       "    </tr>\n",
       "    <tr>\n",
       "      <th>21</th>\n",
       "      <td>21</td>\n",
       "      <td>8640</td>\n",
       "      <td>910</td>\n",
       "      <td>1.111118</td>\n",
       "      <td>0.786905</td>\n",
       "      <td>0.324214</td>\n",
       "    </tr>\n",
       "    <tr>\n",
       "      <th>22</th>\n",
       "      <td>22</td>\n",
       "      <td>3513</td>\n",
       "      <td>662</td>\n",
       "      <td>0.451778</td>\n",
       "      <td>0.572451</td>\n",
       "      <td>0.120674</td>\n",
       "    </tr>\n",
       "    <tr>\n",
       "      <th>23</th>\n",
       "      <td>23</td>\n",
       "      <td>11732</td>\n",
       "      <td>5044</td>\n",
       "      <td>1.508755</td>\n",
       "      <td>4.361699</td>\n",
       "      <td>2.852945</td>\n",
       "    </tr>\n",
       "    <tr>\n",
       "      <th>24</th>\n",
       "      <td>24</td>\n",
       "      <td>47664</td>\n",
       "      <td>489</td>\n",
       "      <td>6.129669</td>\n",
       "      <td>0.422853</td>\n",
       "      <td>5.706816</td>\n",
       "    </tr>\n",
       "    <tr>\n",
       "      <th>25</th>\n",
       "      <td>25</td>\n",
       "      <td>6306</td>\n",
       "      <td>937</td>\n",
       "      <td>0.810962</td>\n",
       "      <td>0.810252</td>\n",
       "      <td>0.000710</td>\n",
       "    </tr>\n",
       "    <tr>\n",
       "      <th>26</th>\n",
       "      <td>26</td>\n",
       "      <td>5206</td>\n",
       "      <td>1094</td>\n",
       "      <td>0.669500</td>\n",
       "      <td>0.946015</td>\n",
       "      <td>0.276515</td>\n",
       "    </tr>\n",
       "    <tr>\n",
       "      <th>27</th>\n",
       "      <td>27</td>\n",
       "      <td>28335</td>\n",
       "      <td>5689</td>\n",
       "      <td>3.643928</td>\n",
       "      <td>4.919450</td>\n",
       "      <td>1.275523</td>\n",
       "    </tr>\n",
       "    <tr>\n",
       "      <th>28</th>\n",
       "      <td>28</td>\n",
       "      <td>26680</td>\n",
       "      <td>703</td>\n",
       "      <td>3.431092</td>\n",
       "      <td>0.607905</td>\n",
       "      <td>2.823187</td>\n",
       "    </tr>\n",
       "  </tbody>\n",
       "</table>\n",
       "</div>"
      ],
      "text/plain": [
       "    cluster#  population count  customer count  population proportion[%]  \\\n",
       "0          0             24322             741                  3.127849   \n",
       "1          1             37885            1161                  4.872074   \n",
       "2          2             40458           12388                  5.202966   \n",
       "3          3             48167            5866                  6.194356   \n",
       "4          4             28280            6632                  3.636855   \n",
       "5          5             52533             595                  6.755830   \n",
       "6          6             31882            7863                  4.100078   \n",
       "7          7             27473            3881                  3.533073   \n",
       "8          8             23405            9391                  3.009922   \n",
       "9          9             22248            2365                  2.861130   \n",
       "10        10             30937            2033                  3.978549   \n",
       "11        11             45103             630                  5.800320   \n",
       "12        12             59367           13571                  7.634694   \n",
       "13        13             48077            8063                  6.182782   \n",
       "14        14             14523            3827                  1.867682   \n",
       "15        15             39224            9123                  5.044271   \n",
       "16        16             23405            3622                  3.009922   \n",
       "17        17             12743            2211                  1.638771   \n",
       "18        18             18617            4093                  2.394177   \n",
       "19        19              4209             883                  0.541284   \n",
       "20        20              6661            1176                  0.856616   \n",
       "21        21              8640             910                  1.111118   \n",
       "22        22              3513             662                  0.451778   \n",
       "23        23             11732            5044                  1.508755   \n",
       "24        24             47664             489                  6.129669   \n",
       "25        25              6306             937                  0.810962   \n",
       "26        26              5206            1094                  0.669500   \n",
       "27        27             28335            5689                  3.643928   \n",
       "28        28             26680             703                  3.431092   \n",
       "\n",
       "    customer proportion[%]  difference  \n",
       "0                 0.640765    2.487084  \n",
       "1                 1.003952    3.868122  \n",
       "2                10.712278    5.509313  \n",
       "3                 5.072508    1.121848  \n",
       "4                 5.734891    2.098036  \n",
       "5                 0.514514    6.241316  \n",
       "6                 6.799374    2.699296  \n",
       "7                 3.356018    0.177055  \n",
       "8                 8.120682    5.110760  \n",
       "9                 2.045087    0.816042  \n",
       "10                1.757997    2.220553  \n",
       "11                0.544780    5.255540  \n",
       "12               11.735254    4.100560  \n",
       "13                6.972320    0.789538  \n",
       "14                3.309323    1.441641  \n",
       "15                7.888934    2.844663  \n",
       "16                3.132053    0.122131  \n",
       "17                1.911919    0.273148  \n",
       "18                3.539341    1.145164  \n",
       "19                0.763557    0.222272  \n",
       "20                1.016923    0.160307  \n",
       "21                0.786905    0.324214  \n",
       "22                0.572451    0.120674  \n",
       "23                4.361699    2.852945  \n",
       "24                0.422853    5.706816  \n",
       "25                0.810252    0.000710  \n",
       "26                0.946015    0.276515  \n",
       "27                4.919450    1.275523  \n",
       "28                0.607905    2.823187  "
      ]
     },
     "execution_count": 102,
     "metadata": {},
     "output_type": "execute_result"
    }
   ],
   "source": [
    "# Compare the proportion of data in each cluster for the customer data to the\n",
    "# proportion of data in each cluster for the general population.\n",
    "\n",
    "clusters_population = pd.DataFrame(predict_pop_general, columns=['cluster #'])\n",
    "clusters_customers = pd.DataFrame(predict_customers, columns=['cluster #'])\n",
    "\n",
    "size_pop = clusters_population.shape[0]\n",
    "size_cust = clusters_customers.shape[0]\n",
    "\n",
    "# sort by cluster number:\n",
    "clusters_population_grouped = pd.DataFrame(clusters_population.pivot_table(index = ['cluster #'], aggfunc ='size'))\n",
    "clusters_customers_grouped = pd.DataFrame(clusters_customers.pivot_table(index = ['cluster #'], aggfunc ='size'))\n",
    "\n",
    "ratio_pop = 100 * (clusters_population_grouped / size_pop)\n",
    "ratio_pop.columns = ['proportion_pop[%]']\n",
    "ratio_pop.index = [*range(k)]\n",
    "\n",
    "ratio_cust = 100 * (clusters_customers_grouped / size_cust)\n",
    "ratio_cust.columns = ['proportion[%]']\n",
    "ratio_cust.index = [*range(k)]\n",
    "\n",
    "difference_proportions = abs(ratio_pop['proportion_pop[%]'] - ratio_cust['proportion[%]'])\n",
    "difference_proportions.columns = ['proportion difference[%]']\n",
    "ratio_cust.columns = ['Difference in proportions']\n",
    "\n",
    "frames = [pd.Series([*range(k)]), clusters_population_grouped, clusters_customers_grouped, ratio_pop, ratio_cust, difference_proportions]\n",
    "final_table = pd.concat(frames, axis=1)\n",
    "final_table.columns = ['cluster#','population count','customer count','population proportion[%]','customer proportion[%]','difference']\n",
    "final_table.index = [*range(k)]\n",
    "final_table\n",
    "          "
   ]
  },
  {
   "cell_type": "code",
   "execution_count": 104,
   "metadata": {},
   "outputs": [
    {
     "data": {
      "image/png": "[encoded data removed]",
      "text/plain": [
       "<matplotlib.figure.Figure at 0x7ff29e675d30>"
      ]
     },
     "metadata": {
      "needs_background": "light"
     },
     "output_type": "display_data"
    }
   ],
   "source": [
    "# Compare visually\n",
    "final_table.plot(x='cluster#', y=['population proportion[%]', 'customer proportion[%]'], kind='bar', figsize=(18, 8))\n",
    "\n",
    "plt.ylabel('Proportion clusters of both groups')\n",
    "plt.xlabel('cluster #')\n",
    "plt.title('Population and customers clusters compared')\n",
    "plt.show()"
   ]
  },
  {
   "cell_type": "code",
   "execution_count": 151,
   "metadata": {
    "collapsed": true
   },
   "outputs": [],
   "source": [
    "# What kinds of people are part of a cluster that is overrepresented in the\n",
    "# customer data compared to the general population?\n",
    "\n",
    "# from plot and \"difference\" column above: clusters 2, 8, 12, 23 of the customers (orange bars)\n",
    "# seem to be over-represented compared to the general population.\n",
    "\n",
    "# cluster 8 has the highest difference, so I will choose to analyze it. \n",
    "# i.e suggeststing that the people in cluster #8 to be a target audience for the company."
   ]
  },
  {
   "cell_type": "code",
   "execution_count": null,
   "metadata": {
    "collapsed": true
   },
   "outputs": [],
   "source": [
    "# What kinds of people are part of a cluster that is underrepresented in the\n",
    "# customer data compared to the general population?\n",
    "\n",
    "# # from plot and \"difference\" column above: clusters 1, 5, 11, and 24 of the general population(blue bars)\n",
    "# seem to be over-represented compared to the customer population. \n",
    "\n",
    "# cluster 5 has the highest difference, so I will choose to analyze it.\n",
    "# i.e suggeststing that group 5 of persons to be outside of the target demographics."
   ]
  },
  {
   "cell_type": "code",
   "execution_count": 125,
   "metadata": {},
   "outputs": [
    {
     "name": "stdout",
     "output_type": "stream",
     "text": [
      "Population cluster #5 highest weights:\n",
      "0     5.315058\n",
      "3     0.768030\n",
      "17    0.583741\n",
      "dtype: float64\n",
      "\n",
      "Customer cluster #8 highest weights:\n",
      "87    4.206940\n",
      "86    2.996476\n",
      "85    1.487145\n",
      "dtype: float64\n"
     ]
    }
   ],
   "source": [
    "# finding the corresponding features for both clusters. \n",
    "\n",
    "overpass_population_cluster = 5\n",
    "overpass_customer_cluster = 8\n",
    "\n",
    "population_cluster_components = pd.Series(kmeans.cluster_centers_[overpass_population_cluster]).sort_values(ascending= False)\n",
    "customer_cluster_components = pd.Series(kmeans.cluster_centers_[overpass_customer_cluster]).sort_values(ascending= False)\n",
    "\n",
    "# highest weights\n",
    "print(f\"Population cluster #5 highest weights:\\n{population_cluster_components.head(3)}\\n\")\n",
    "print(f\"Customer cluster #8 highest weights:\\n{customer_cluster_components.head(3)}\")"
   ]
  },
  {
   "cell_type": "code",
   "execution_count": 162,
   "metadata": {},
   "outputs": [
    {
     "name": "stdout",
     "output_type": "stream",
     "text": [
      "                      component #85\n",
      "FINANZTYP_3                  0.2783\n",
      "RELAT_AB                     0.2222\n",
      "GFK_URLAUBERTYP_11.0         0.1965\n",
      "CAMEO_DEU_2015_8B            0.1916\n",
      "CAMEO_DEU_2015_3A           -0.3013\n",
      "GFK_URLAUBERTYP_2.0         -0.2812\n",
      "ZABEOTYP_4                  -0.1877\n",
      "GFK_URLAUBERTYP_3.0         -0.1778\n"
     ]
    },
    {
     "data": {
      "image/png": "[encoded data removed]",
      "text/plain": [
       "<matplotlib.figure.Figure at 0x7ff29e17d668>"
      ]
     },
     "metadata": {
      "needs_background": "light"
     },
     "output_type": "display_data"
    },
    {
     "name": "stdout",
     "output_type": "stream",
     "text": [
      "                     component #86\n",
      "CAMEO_DEU_2015_6E           0.2093\n",
      "KBA05_ANTG2                 0.2060\n",
      "CAMEO_DEU_2015_5A           0.1993\n",
      "ZABEOTYP_2                  0.1845\n",
      "GFK_URLAUBERTYP_3.0        -0.2417\n",
      "FINANZTYP_4                -0.1891\n",
      "SHOPPER_TYP_0.0            -0.1880\n",
      "KBA05_ANTG3                -0.1785\n"
     ]
    },
    {
     "data": {
      "image/png": "[encoded data removed]",
      "text/plain": [
       "<matplotlib.figure.Figure at 0x7ff29ea2a2e8>"
      ]
     },
     "metadata": {
      "needs_background": "light"
     },
     "output_type": "display_data"
    },
    {
     "name": "stdout",
     "output_type": "stream",
     "text": [
      "                     component #87\n",
      "WOHNDAUER_2008              0.3252\n",
      "ZABEOTYP_5                  0.2997\n",
      "CAMEO_DEU_2015_3A           0.2533\n",
      "ZABEOTYP_1                  0.1499\n",
      "ZABEOTYP_2                 -0.2577\n",
      "GFK_URLAUBERTYP_2.0        -0.2497\n",
      "GFK_URLAUBERTYP_9.0        -0.2067\n",
      "KBA05_ANTG3                -0.1478\n"
     ]
    },
    {
     "data": {
      "image/png": "[encoded data removed]",
      "text/plain": [
       "<matplotlib.figure.Figure at 0x7ff29e9687f0>"
      ]
     },
     "metadata": {
      "needs_background": "light"
     },
     "output_type": "display_data"
    }
   ],
   "source": [
    "# I need components 0,3,17 and 86,86,85. \n",
    "\n",
    "# components 85,86,87 are easy to retrieve: \n",
    "pca_results(full_dataset=df_clean_customers, pca=pca,min_comp=85, number_dims=88)"
   ]
  },
  {
   "cell_type": "code",
   "execution_count": 163,
   "metadata": {},
   "outputs": [
    {
     "name": "stdout",
     "output_type": "stream",
     "text": [
      "                        component #0\n",
      "LP_STATUS_GROB_1.0            0.1935\n",
      "PLZ8_ANTG3                    0.1902\n",
      "CAMEO_INTL_2015_WEALTH        0.1877\n",
      "PLZ8_ANTG4                    0.1843\n",
      "MOBI_REGIO                   -0.1966\n",
      "FINANZ_MINIMALIST            -0.1926\n",
      "PLZ8_ANTG1                   -0.1912\n",
      "KBA05_ANTG1                  -0.1863\n"
     ]
    },
    {
     "data": {
      "image/png": "[encoded data removed]",
      "text/plain": [
       "<matplotlib.figure.Figure at 0x7ff28c1cde48>"
      ]
     },
     "metadata": {
      "needs_background": "light"
     },
     "output_type": "display_data"
    },
    {
     "name": "stdout",
     "output_type": "stream",
     "text": [
      "                              component #1\n",
      "ALTERSKATEGORIE_GROB                0.2363\n",
      "FINANZ_VORSORGER                    0.2204\n",
      "ZABEOTYP_2                          0.2043\n",
      "SEMIO_ERL                           0.1922\n",
      "PRAEGENDE_JUGENDJAHRE_DECADE       -0.2315\n",
      "FINANZ_SPARER                      -0.2255\n",
      "SEMIO_REL                          -0.2240\n",
      "FINANZ_UNAUFFAELLIGER              -0.2166\n"
     ]
    },
    {
     "data": {
      "image/png": "[encoded data removed]",
      "text/plain": [
       "<matplotlib.figure.Figure at 0x7ff28b7a4da0>"
      ]
     },
     "metadata": {
      "needs_background": "light"
     },
     "output_type": "display_data"
    },
    {
     "name": "stdout",
     "output_type": "stream",
     "text": [
      "            component #2\n",
      "SEMIO_VERT        0.3257\n",
      "SEMIO_SOZ         0.2574\n",
      "SEMIO_FAM         0.2545\n",
      "SEMIO_KULT        0.2427\n",
      "ANREDE_KZ        -0.3492\n",
      "SEMIO_KAEM       -0.3206\n",
      "SEMIO_DOM        -0.2904\n",
      "SEMIO_KRIT       -0.2681\n"
     ]
    },
    {
     "data": {
      "image/png": "[encoded data removed]",
      "text/plain": [
       "<matplotlib.figure.Figure at 0x7ff29e0f4e80>"
      ]
     },
     "metadata": {
      "needs_background": "light"
     },
     "output_type": "display_data"
    },
    {
     "name": "stdout",
     "output_type": "stream",
     "text": [
      "                                component #3\n",
      "GREEN_AVANTGARDE                      0.3180\n",
      "PRAEGENDE_JUGENDJAHRE_MOVEMENT        0.3180\n",
      "LP_STATUS_GROB_5.0                    0.2428\n",
      "EWDICHTE                              0.2211\n",
      "WOHNLAGE                             -0.2336\n",
      "KKK                                  -0.2104\n",
      "HH_EINKOMMEN_SCORE                   -0.1954\n",
      "BALLRAUM                             -0.1892\n"
     ]
    },
    {
     "data": {
      "image/png": "[encoded data removed]",
      "text/plain": [
       "<matplotlib.figure.Figure at 0x7ff29e7f21d0>"
      ]
     },
     "metadata": {
      "needs_background": "light"
     },
     "output_type": "display_data"
    }
   ],
   "source": [
    "# components 0,3,17: will use the same function but twice. once for comp. 1,3, and second time for 17. \n",
    "\n",
    "pca_results(full_dataset=df_clean_customers, pca=pca, min_comp=0, number_dims=4)"
   ]
  },
  {
   "cell_type": "code",
   "execution_count": 164,
   "metadata": {},
   "outputs": [
    {
     "name": "stdout",
     "output_type": "stream",
     "text": [
      "                      component #16\n",
      "CAMEO_INTL_2015_LIFE         0.2736\n",
      "CAMEO_DEUG_2015_5            0.2136\n",
      "CAMEO_DEUG_2015_7            0.1661\n",
      "KBA05_ANTG4                  0.1602\n",
      "CAMEO_DEUG_2015_9           -0.2087\n",
      "KBA05_ANTG2                 -0.1694\n",
      "CAMEO_DEU_2015_8B           -0.1590\n",
      "CAMEO_DEU_2015_9D           -0.1441\n"
     ]
    },
    {
     "data": {
      "image/png": "[encoded data removed]",
      "text/plain": [
       "<matplotlib.figure.Figure at 0x7ff29dbc4390>"
      ]
     },
     "metadata": {
      "needs_background": "light"
     },
     "output_type": "display_data"
    },
    {
     "name": "stdout",
     "output_type": "stream",
     "text": [
      "                    component #17\n",
      "OST_WEST_KZ                0.2553\n",
      "REGIOTYP                   0.2280\n",
      "CAMEO_DEUG_2015_1          0.1791\n",
      "LP_STATUS_GROB_4.0         0.1670\n",
      "FINANZTYP_6               -0.2929\n",
      "PLZ8_HHZ                  -0.1842\n",
      "KBA13_ANZAHL_PKW          -0.1682\n",
      "CAMEO_DEU_2015_9B         -0.1639\n"
     ]
    },
    {
     "data": {
      "image/png": "[encoded data removed]",
      "text/plain": [
       "<matplotlib.figure.Figure at 0x7ff29e7907b8>"
      ]
     },
     "metadata": {
      "needs_background": "light"
     },
     "output_type": "display_data"
    }
   ],
   "source": [
    "# comp 17:\n",
    "pca_results(full_dataset=df_clean_customers, pca=pca,min_comp=16, number_dims=18)"
   ]
  },
  {
   "cell_type": "markdown",
   "metadata": {},
   "source": [
    "# Summary of relevant components:\n",
    "\n",
    "component #0\n",
    "1. LP_STATUS_GROB_1.0 : 0.1935 \n",
    "2. PLZ8_ANTG3 : 0.1902 : \n",
    "3. CAMEO_INTL_2015_WEALTH : 0.1877 \n",
    "4. PLZ8_ANTG4 : 0.1843\n",
    "5. MOBI_REGIO : -0.1966\n",
    "6. FINANZ_MINIMALIST : -0.1926\n",
    "7. PLZ8_ANTG1 : -0.1912\n",
    "8. KBA05_ANTG1 : -0.1863\n",
    "<br><br>\n",
    "component #3\n",
    "1. GREEN_AVANTGARDE                      0.3180\n",
    "2. PRAEGENDE_JUGENDJAHRE_MOVEMENT        0.3180\n",
    "3. LP_STATUS_GROB_5.0                    0.2428\n",
    "4. EWDICHTE                              0.2211\n",
    "5. WOHNLAGE                             -0.2336\n",
    "6. KKK                                  -0.2104\n",
    "7. HH_EINKOMMEN_SCORE                   -0.1954\n",
    "8. BALLRAUM                             -0.1892\n",
    "<br><br>\n",
    "component #17\n",
    "1. OST_WEST_KZ                0.2553\n",
    "2. REGIOTYP                   0.2280\n",
    "3. CAMEO_DEUG_2015_1          0.1791\n",
    "4. LP_STATUS_GROB_4.0         0.1670\n",
    "5. FINANZTYP_6               -0.2929\n",
    "6. PLZ8_HHZ                  -0.1842\n",
    "7. KBA13_ANZAHL_PKW          -0.1682\n",
    "8. CAMEO_DEU_2015_9B         -0.1639\n",
    "<br><br>\n",
    "#### For population cluster # 5:\n",
    "<br><br>\n",
    "component #85\n",
    "1. FINANZTYP_3                  0.2783\n",
    "2. RELAT_AB                     0.2222\n",
    "3. GFK_URLAUBERTYP_11.0         0.1965\n",
    "4. CAMEO_DEU_2015_8B            0.1916\n",
    "5. CAMEO_DEU_2015_3A           -0.3013\n",
    "6. GFK_URLAUBERTYP_2.0         -0.2812\n",
    "7. ZABEOTYP_4                  -0.1877\n",
    "8. GFK_URLAUBERTYP_3.0         -0.1778\n",
    "<br><br>\n",
    "component #86\n",
    "1. CAMEO_DEU_2015_6E           0.2093\n",
    "2. KBA05_ANTG2                 0.2060\n",
    "3. CAMEO_DEU_2015_5A           0.1993\n",
    "4. ZABEOTYP_2                  0.1845\n",
    "5. GFK_URLAUBERTYP_3.0        -0.2417\n",
    "6. FINANZTYP_4                -0.1891\n",
    "7. SHOPPER_TYP_0.0            -0.1880\n",
    "8. KBA05_ANTG3                -0.1785\n",
    "\n",
    "<br><br>\n",
    "component #87\n",
    "1. WOHNDAUER_2008              0.3252\n",
    "2. ZABEOTYP_5                  0.2997\n",
    "3. CAMEO_DEU_2015_3A           0.2533\n",
    "4. ZABEOTYP_1                  0.1499\n",
    "5. ZABEOTYP_2                 -0.2577\n",
    "6. GFK_URLAUBERTYP_2.0        -0.2497\n",
    "7. GFK_URLAUBERTYP_9.0        -0.2067\n",
    "8. KBA05_ANTG3                -0.1478\n",
    "<br><br>\n"
   ]
  },
  {
   "cell_type": "markdown",
   "metadata": {},
   "source": [
    "\n"
   ]
  },
  {
   "cell_type": "markdown",
   "metadata": {},
   "source": [
    "### Discussion 3.3: Compare Customer Data to Demographics Data\n",
    "\n",
    "(Double-click this cell and replace this text with your own text, reporting findings and conclusions from the clustering analysis. Can we describe segments of the population that are relatively popular with the mail-order company, or relatively unpopular with the company?)\n",
    "\n",
    "I will focus on the two most significant components, 0 (population cluster) and 87 (customer cluster). <br><br>\n",
    "\n",
    "Cluster 8 is the highest overrepresented cluster in the customer data compared to the general population.\n",
    "Component 0 is the most significant component in this cluster. \n",
    "component 0 most dominant features are related to social status, wealth of household, number of family houses in some area in Germany, and Financial typology. \n",
    "\n",
    "The people in cluster #8 seem to be quite wealthy, with high social status and are financially stable. \n",
    "The company should invest some resources attracting that group of people. \n",
    "\n",
    "Cluster 5 is the highest overrepresented cluster in the population data compared to the customer population.\n",
    "Component 87 is the most significant component in this cluster.\n",
    "Component 87 most dominant features are related to the length of residence, energy consumption (5 = seeking orientation, 1 = green, 2 = smart), \n",
    "life stage (3A = Career & Family),  Vacation habits(9 =  Package tour travelers, 2 = Family-oriented vacationists ) \n",
    "\n",
    "The people in cluster #5 seem to be people with families, some of them are green smart, and some of them are seeking orientation (no idea what that means..). But the general image of this group is centered around family activities and vacations, perhaps parents with kids who share a house for quite some time (length of residence also a factor) and probably receive mail.  \n"
   ]
  },
  {
   "cell_type": "markdown",
   "metadata": {},
   "source": [
    "> Congratulations on making it this far in the project! Before you finish, make sure to check through the entire notebook from top to bottom to make sure that your analysis follows a logical flow and all of your findings are documented in **Discussion** cells. Once you've checked over all of your work, you should export the notebook as an HTML document to submit for evaluation. You can do this from the menu, navigating to **File -> Download as -> HTML (.html)**. You will submit both that document and this notebook for your project submission."
   ]
  },
  {
   "cell_type": "code",
   "execution_count": null,
   "metadata": {
    "collapsed": true
   },
   "outputs": [],
   "source": []
  }
 ],
 "metadata": {
  "kernelspec": {
   "display_name": "Python 3",
   "language": "python",
   "name": "python3"
  },
  "language_info": {
   "codemirror_mode": {
    "name": "ipython",
    "version": 3
   },
   "file_extension": ".py",
   "mimetype": "text/x-python",
   "name": "python",
   "nbconvert_exporter": "python",
   "pygments_lexer": "ipython3",
   "version": "3.6.3"
  }
 },
 "nbformat": 4,
 "nbformat_minor": 2
}
